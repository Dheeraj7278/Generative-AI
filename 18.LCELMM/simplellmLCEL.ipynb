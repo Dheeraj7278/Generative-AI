{
 "cells": [
  {
   "cell_type": "markdown",
   "metadata": {},
   "source": [
    "### Build a Simple LLM Application with LCEL\n",
    "In this quickstart we'll show you how to build a simple LLM application with LangChain. This application will translate text from English into another language. This is a relatively simple LLM application - it's just a single LLM call plus some prompting. Still, this is a great way to get started with LangChain - a lot of features can be built with just some prompting and an LLM call!\n",
    "\n",
    "After seeing this video, you'll have a high level overview of:\n",
    "\n",
    "- Using language models\n",
    "\n",
    "- Using PromptTemplates and OutputParsers\n",
    "\n",
    "- Using LangChain Expression Language (LCEL) to chain components together\n",
    "\n",
    "- Debugging and tracing your application using LangSmith\n",
    "\n",
    "- Deploying your application with LangServe"
   ]
  },
  {
   "cell_type": "code",
   "execution_count": 1,
   "metadata": {},
   "outputs": [
    {
     "name": "stdout",
     "output_type": "stream",
     "text": [
      "Collecting langchain\n",
      "  Obtaining dependency information for langchain from https://files.pythonhosted.org/packages/ba/83/77392f0a6a560e471075b125656b392d3b889be65ee8e93a5c31aa7a62bb/langchain-0.3.24-py3-none-any.whl.metadata\n",
      "  Downloading langchain-0.3.24-py3-none-any.whl.metadata (7.8 kB)\n",
      "Collecting langchain-core<1.0.0,>=0.3.55 (from langchain)\n",
      "  Obtaining dependency information for langchain-core<1.0.0,>=0.3.55 from https://files.pythonhosted.org/packages/ca/fe/f8b2c32122cc2c842169164708fedc65db693daefcdaa9e9863d44b65b15/langchain_core-0.3.56-py3-none-any.whl.metadata\n",
      "  Downloading langchain_core-0.3.56-py3-none-any.whl.metadata (5.9 kB)\n",
      "Collecting langchain-text-splitters<1.0.0,>=0.3.8 (from langchain)\n",
      "  Obtaining dependency information for langchain-text-splitters<1.0.0,>=0.3.8 from https://files.pythonhosted.org/packages/8b/a3/3696ff2444658053c01b6b7443e761f28bb71217d82bb89137a978c5f66f/langchain_text_splitters-0.3.8-py3-none-any.whl.metadata\n",
      "  Downloading langchain_text_splitters-0.3.8-py3-none-any.whl.metadata (1.9 kB)\n",
      "Collecting langsmith<0.4,>=0.1.17 (from langchain)\n",
      "  Obtaining dependency information for langsmith<0.4,>=0.1.17 from https://files.pythonhosted.org/packages/50/f2/5700dbeec7dca0aa57a6ed2f472fa3a323b46c85ab2bc446b2c7c8fb599e/langsmith-0.3.37-py3-none-any.whl.metadata\n",
      "  Downloading langsmith-0.3.37-py3-none-any.whl.metadata (15 kB)\n",
      "Collecting pydantic<3.0.0,>=2.7.4 (from langchain)\n",
      "  Obtaining dependency information for pydantic<3.0.0,>=2.7.4 from https://files.pythonhosted.org/packages/b0/1d/407b29780a289868ed696d1616f4aad49d6388e5a77f567dcd2629dcd7b8/pydantic-2.11.3-py3-none-any.whl.metadata\n",
      "  Downloading pydantic-2.11.3-py3-none-any.whl.metadata (65 kB)\n",
      "     ---------------------------------------- 0.0/65.2 kB ? eta -:--:--\n",
      "     ------ --------------------------------- 10.2/65.2 kB ? eta -:--:--\n",
      "     ------ --------------------------------- 10.2/65.2 kB ? eta -:--:--\n",
      "     ----------------- -------------------- 30.7/65.2 kB 259.2 kB/s eta 0:00:01\n",
      "     ----------------------------------- -- 61.4/65.2 kB 363.1 kB/s eta 0:00:01\n",
      "     -------------------------------------- 65.2/65.2 kB 319.4 kB/s eta 0:00:00\n",
      "Collecting SQLAlchemy<3,>=1.4 (from langchain)\n",
      "  Obtaining dependency information for SQLAlchemy<3,>=1.4 from https://files.pythonhosted.org/packages/2a/9f/14c511cda174aa1ad9b0e42b64ff5a71db35d08b0d80dc044dae958921e5/sqlalchemy-2.0.40-cp312-cp312-win_amd64.whl.metadata\n",
      "  Downloading sqlalchemy-2.0.40-cp312-cp312-win_amd64.whl.metadata (9.9 kB)\n",
      "Collecting requests<3,>=2 (from langchain)\n",
      "  Obtaining dependency information for requests<3,>=2 from https://files.pythonhosted.org/packages/f9/9b/335f9764261e915ed497fcdeb11df5dfd6f7bf257d4a6a2a686d80da4d54/requests-2.32.3-py3-none-any.whl.metadata\n",
      "  Downloading requests-2.32.3-py3-none-any.whl.metadata (4.6 kB)\n",
      "Collecting PyYAML>=5.3 (from langchain)\n",
      "  Obtaining dependency information for PyYAML>=5.3 from https://files.pythonhosted.org/packages/0c/e8/4f648c598b17c3d06e8753d7d13d57542b30d56e6c2dedf9c331ae56312e/PyYAML-6.0.2-cp312-cp312-win_amd64.whl.metadata\n",
      "  Downloading PyYAML-6.0.2-cp312-cp312-win_amd64.whl.metadata (2.1 kB)\n",
      "Collecting tenacity!=8.4.0,<10.0.0,>=8.1.0 (from langchain-core<1.0.0,>=0.3.55->langchain)\n",
      "  Obtaining dependency information for tenacity!=8.4.0,<10.0.0,>=8.1.0 from https://files.pythonhosted.org/packages/e5/30/643397144bfbfec6f6ef821f36f33e57d35946c44a2352d3c9f0ae847619/tenacity-9.1.2-py3-none-any.whl.metadata\n",
      "  Downloading tenacity-9.1.2-py3-none-any.whl.metadata (1.2 kB)\n",
      "Collecting jsonpatch<2.0,>=1.33 (from langchain-core<1.0.0,>=0.3.55->langchain)\n",
      "  Obtaining dependency information for jsonpatch<2.0,>=1.33 from https://files.pythonhosted.org/packages/73/07/02e16ed01e04a374e644b575638ec7987ae846d25ad97bcc9945a3ee4b0e/jsonpatch-1.33-py2.py3-none-any.whl.metadata\n",
      "  Downloading jsonpatch-1.33-py2.py3-none-any.whl.metadata (3.0 kB)\n",
      "Collecting packaging<25,>=23.2 (from langchain-core<1.0.0,>=0.3.55->langchain)\n",
      "  Obtaining dependency information for packaging<25,>=23.2 from https://files.pythonhosted.org/packages/88/ef/eb23f262cca3c0c4eb7ab1933c3b1f03d021f2c48f54763065b6f0e321be/packaging-24.2-py3-none-any.whl.metadata\n",
      "  Downloading packaging-24.2-py3-none-any.whl.metadata (3.2 kB)\n",
      "Collecting typing-extensions>=4.7 (from langchain-core<1.0.0,>=0.3.55->langchain)\n",
      "  Obtaining dependency information for typing-extensions>=4.7 from https://files.pythonhosted.org/packages/8b/54/b1ae86c0973cc6f0210b53d508ca3641fb6d0c56823f288d108bc7ab3cc8/typing_extensions-4.13.2-py3-none-any.whl.metadata\n",
      "  Downloading typing_extensions-4.13.2-py3-none-any.whl.metadata (3.0 kB)\n",
      "Collecting httpx<1,>=0.23.0 (from langsmith<0.4,>=0.1.17->langchain)\n",
      "  Obtaining dependency information for httpx<1,>=0.23.0 from https://files.pythonhosted.org/packages/2a/39/e50c7c3a983047577ee07d2a9e53faf5a69493943ec3f6a384bdc792deb2/httpx-0.28.1-py3-none-any.whl.metadata\n",
      "  Downloading httpx-0.28.1-py3-none-any.whl.metadata (7.1 kB)\n",
      "Collecting orjson<4.0.0,>=3.9.14 (from langsmith<0.4,>=0.1.17->langchain)\n",
      "  Obtaining dependency information for orjson<4.0.0,>=3.9.14 from https://files.pythonhosted.org/packages/35/ce/81a27e7b439b807bd393585271364cdddf50dc281fc57c4feef7ccb186a6/orjson-3.10.16-cp312-cp312-win_amd64.whl.metadata\n",
      "  Downloading orjson-3.10.16-cp312-cp312-win_amd64.whl.metadata (42 kB)\n",
      "     ---------------------------------------- 0.0/42.9 kB ? eta -:--:--\n",
      "     ---------------------------------------- 42.9/42.9 kB 2.0 MB/s eta 0:00:00\n",
      "Collecting requests-toolbelt<2.0.0,>=1.0.0 (from langsmith<0.4,>=0.1.17->langchain)\n",
      "  Obtaining dependency information for requests-toolbelt<2.0.0,>=1.0.0 from https://files.pythonhosted.org/packages/3f/51/d4db610ef29373b879047326cbf6fa98b6c1969d6f6dc423279de2b1be2c/requests_toolbelt-1.0.0-py2.py3-none-any.whl.metadata\n",
      "  Downloading requests_toolbelt-1.0.0-py2.py3-none-any.whl.metadata (14 kB)\n",
      "Collecting zstandard<0.24.0,>=0.23.0 (from langsmith<0.4,>=0.1.17->langchain)\n",
      "  Obtaining dependency information for zstandard<0.24.0,>=0.23.0 from https://files.pythonhosted.org/packages/75/37/872d74bd7739639c4553bf94c84af7d54d8211b626b352bc57f0fd8d1e3f/zstandard-0.23.0-cp312-cp312-win_amd64.whl.metadata\n",
      "  Downloading zstandard-0.23.0-cp312-cp312-win_amd64.whl.metadata (3.0 kB)\n",
      "Collecting annotated-types>=0.6.0 (from pydantic<3.0.0,>=2.7.4->langchain)\n",
      "  Obtaining dependency information for annotated-types>=0.6.0 from https://files.pythonhosted.org/packages/78/b6/6307fbef88d9b5ee7421e68d78a9f162e0da4900bc5f5793f6d3d0e34fb8/annotated_types-0.7.0-py3-none-any.whl.metadata\n",
      "  Using cached annotated_types-0.7.0-py3-none-any.whl.metadata (15 kB)\n",
      "Collecting pydantic-core==2.33.1 (from pydantic<3.0.0,>=2.7.4->langchain)\n",
      "  Obtaining dependency information for pydantic-core==2.33.1 from https://files.pythonhosted.org/packages/02/28/58442ad1c22b5b6742b992ba9518420235adced665513868f99a1c2638a5/pydantic_core-2.33.1-cp312-cp312-win_amd64.whl.metadata\n",
      "  Downloading pydantic_core-2.33.1-cp312-cp312-win_amd64.whl.metadata (6.9 kB)\n",
      "Collecting typing-inspection>=0.4.0 (from pydantic<3.0.0,>=2.7.4->langchain)\n",
      "  Obtaining dependency information for typing-inspection>=0.4.0 from https://files.pythonhosted.org/packages/31/08/aa4fdfb71f7de5176385bd9e90852eaf6b5d622735020ad600f2bab54385/typing_inspection-0.4.0-py3-none-any.whl.metadata\n",
      "  Downloading typing_inspection-0.4.0-py3-none-any.whl.metadata (2.6 kB)\n",
      "Collecting charset-normalizer<4,>=2 (from requests<3,>=2->langchain)\n",
      "  Obtaining dependency information for charset-normalizer<4,>=2 from https://files.pythonhosted.org/packages/21/5b/1b390b03b1d16c7e382b561c5329f83cc06623916aab983e8ab9239c7d5c/charset_normalizer-3.4.1-cp312-cp312-win_amd64.whl.metadata\n",
      "  Downloading charset_normalizer-3.4.1-cp312-cp312-win_amd64.whl.metadata (36 kB)\n",
      "Collecting idna<4,>=2.5 (from requests<3,>=2->langchain)\n",
      "  Obtaining dependency information for idna<4,>=2.5 from https://files.pythonhosted.org/packages/76/c6/c88e154df9c4e1a2a66ccf0005a88dfb2650c1dffb6f5ce603dfbd452ce3/idna-3.10-py3-none-any.whl.metadata\n",
      "  Downloading idna-3.10-py3-none-any.whl.metadata (10 kB)\n",
      "Collecting urllib3<3,>=1.21.1 (from requests<3,>=2->langchain)\n",
      "  Obtaining dependency information for urllib3<3,>=1.21.1 from https://files.pythonhosted.org/packages/6b/11/cc635220681e93a0183390e26485430ca2c7b5f9d33b15c74c2861cb8091/urllib3-2.4.0-py3-none-any.whl.metadata\n",
      "  Downloading urllib3-2.4.0-py3-none-any.whl.metadata (6.5 kB)\n",
      "Collecting certifi>=2017.4.17 (from requests<3,>=2->langchain)\n",
      "  Obtaining dependency information for certifi>=2017.4.17 from https://files.pythonhosted.org/packages/4a/7e/3db2bd1b1f9e95f7cddca6d6e75e2f2bd9f51b1246e546d88addca0106bd/certifi-2025.4.26-py3-none-any.whl.metadata\n",
      "  Downloading certifi-2025.4.26-py3-none-any.whl.metadata (2.5 kB)\n",
      "Collecting greenlet>=1 (from SQLAlchemy<3,>=1.4->langchain)\n",
      "  Obtaining dependency information for greenlet>=1 from https://files.pythonhosted.org/packages/c0/ba/82a2c3b9868644ee6011da742156247070f30e952f4d33f33857458450f2/greenlet-3.2.1-cp312-cp312-win_amd64.whl.metadata\n",
      "  Downloading greenlet-3.2.1-cp312-cp312-win_amd64.whl.metadata (4.2 kB)\n",
      "Collecting anyio (from httpx<1,>=0.23.0->langsmith<0.4,>=0.1.17->langchain)\n",
      "  Obtaining dependency information for anyio from https://files.pythonhosted.org/packages/a1/ee/48ca1a7c89ffec8b6a0c5d02b89c305671d5ffd8d3c94acf8b8c408575bb/anyio-4.9.0-py3-none-any.whl.metadata\n",
      "  Downloading anyio-4.9.0-py3-none-any.whl.metadata (4.7 kB)\n",
      "Collecting httpcore==1.* (from httpx<1,>=0.23.0->langsmith<0.4,>=0.1.17->langchain)\n",
      "  Obtaining dependency information for httpcore==1.* from https://files.pythonhosted.org/packages/7e/f5/f66802a942d491edb555dd61e3a9961140fd64c90bce1eafd741609d334d/httpcore-1.0.9-py3-none-any.whl.metadata\n",
      "  Downloading httpcore-1.0.9-py3-none-any.whl.metadata (21 kB)\n",
      "Collecting h11>=0.16 (from httpcore==1.*->httpx<1,>=0.23.0->langsmith<0.4,>=0.1.17->langchain)\n",
      "  Obtaining dependency information for h11>=0.16 from https://files.pythonhosted.org/packages/04/4b/29cac41a4d98d144bf5f6d33995617b185d14b22401f75ca86f384e87ff1/h11-0.16.0-py3-none-any.whl.metadata\n",
      "  Downloading h11-0.16.0-py3-none-any.whl.metadata (8.3 kB)\n",
      "Collecting jsonpointer>=1.9 (from jsonpatch<2.0,>=1.33->langchain-core<1.0.0,>=0.3.55->langchain)\n",
      "  Obtaining dependency information for jsonpointer>=1.9 from https://files.pythonhosted.org/packages/71/92/5e77f98553e9e75130c78900d000368476aed74276eb8ae8796f65f00918/jsonpointer-3.0.0-py2.py3-none-any.whl.metadata\n",
      "  Downloading jsonpointer-3.0.0-py2.py3-none-any.whl.metadata (2.3 kB)\n",
      "Collecting sniffio>=1.1 (from anyio->httpx<1,>=0.23.0->langsmith<0.4,>=0.1.17->langchain)\n",
      "  Obtaining dependency information for sniffio>=1.1 from https://files.pythonhosted.org/packages/e9/44/75a9c9421471a6c4805dbf2356f7c181a29c1879239abab1ea2cc8f38b40/sniffio-1.3.1-py3-none-any.whl.metadata\n",
      "  Using cached sniffio-1.3.1-py3-none-any.whl.metadata (3.9 kB)\n",
      "Downloading langchain-0.3.24-py3-none-any.whl (1.0 MB)\n",
      "   ---------------------------------------- 0.0/1.0 MB ? eta -:--:--\n",
      "   -- ------------------------------------- 0.1/1.0 MB 1.7 MB/s eta 0:00:01\n",
      "   -- ------------------------------------- 0.1/1.0 MB 1.7 MB/s eta 0:00:01\n",
      "   ------- -------------------------------- 0.2/1.0 MB 1.5 MB/s eta 0:00:01\n",
      "   ------- -------------------------------- 0.2/1.0 MB 1.5 MB/s eta 0:00:01\n",
      "   ---------- ----------------------------- 0.3/1.0 MB 1.1 MB/s eta 0:00:01\n",
      "   ----------------- ---------------------- 0.4/1.0 MB 1.5 MB/s eta 0:00:01\n",
      "   --------------------- ------------------ 0.5/1.0 MB 1.6 MB/s eta 0:00:01\n",
      "   ------------------------ --------------- 0.6/1.0 MB 1.7 MB/s eta 0:00:01\n",
      "   ------------------------------ --------- 0.8/1.0 MB 1.9 MB/s eta 0:00:01\n",
      "   -------------------------------- ------- 0.8/1.0 MB 1.9 MB/s eta 0:00:01\n",
      "   ------------------------------------ --- 0.9/1.0 MB 1.9 MB/s eta 0:00:01\n",
      "   ---------------------------------------- 1.0/1.0 MB 1.9 MB/s eta 0:00:00\n",
      "Downloading langchain_core-0.3.56-py3-none-any.whl (437 kB)\n",
      "   ---------------------------------------- 0.0/437.2 kB ? eta -:--:--\n",
      "   -------- ------------------------------- 92.2/437.2 kB 2.6 MB/s eta 0:00:01\n",
      "   --------------------- ------------------ 235.5/437.2 kB 3.6 MB/s eta 0:00:01\n",
      "   ------------------------------- -------- 348.2/437.2 kB 2.7 MB/s eta 0:00:01\n",
      "   ---------------------------------------- 437.2/437.2 kB 2.5 MB/s eta 0:00:00\n",
      "Downloading langchain_text_splitters-0.3.8-py3-none-any.whl (32 kB)\n",
      "Downloading langsmith-0.3.37-py3-none-any.whl (359 kB)\n",
      "   ---------------------------------------- 0.0/359.3 kB ? eta -:--:--\n",
      "   ------------------- -------------------- 174.1/359.3 kB 5.3 MB/s eta 0:00:01\n",
      "   ---------------------------------- ----- 307.2/359.3 kB 4.7 MB/s eta 0:00:01\n",
      "   ---------------------------------------- 359.3/359.3 kB 2.8 MB/s eta 0:00:00\n",
      "Downloading pydantic-2.11.3-py3-none-any.whl (443 kB)\n",
      "   ---------------------------------------- 0.0/443.6 kB ? eta -:--:--\n",
      "   -------------------- ------------------- 225.3/443.6 kB 6.9 MB/s eta 0:00:01\n",
      "   ------------------------------ --------- 337.9/443.6 kB 3.5 MB/s eta 0:00:01\n",
      "   ---------------------------------------- 443.6/443.6 kB 3.1 MB/s eta 0:00:00\n",
      "Downloading pydantic_core-2.33.1-cp312-cp312-win_amd64.whl (2.0 MB)\n",
      "   ---------------------------------------- 0.0/2.0 MB ? eta -:--:--\n",
      "   -- ------------------------------------- 0.1/2.0 MB 7.7 MB/s eta 0:00:01\n",
      "   ----- ---------------------------------- 0.3/2.0 MB 4.1 MB/s eta 0:00:01\n",
      "   ------- -------------------------------- 0.4/2.0 MB 3.5 MB/s eta 0:00:01\n",
      "   --------- ------------------------------ 0.5/2.0 MB 3.3 MB/s eta 0:00:01\n",
      "   ------------- -------------------------- 0.7/2.0 MB 3.2 MB/s eta 0:00:01\n",
      "   ----------------- ---------------------- 0.8/2.0 MB 3.3 MB/s eta 0:00:01\n",
      "   ------------------- -------------------- 0.9/2.0 MB 3.1 MB/s eta 0:00:01\n",
      "   ------------------------ --------------- 1.2/2.0 MB 3.4 MB/s eta 0:00:01\n",
      "   ------------------------- -------------- 1.2/2.0 MB 3.3 MB/s eta 0:00:01\n",
      "   ----------------------------- ---------- 1.4/2.0 MB 3.2 MB/s eta 0:00:01\n",
      "   ------------------------------- -------- 1.5/2.0 MB 3.2 MB/s eta 0:00:01\n",
      "   ----------------------------------- ---- 1.8/2.0 MB 3.3 MB/s eta 0:00:01\n",
      "   ---------------------------------------  1.9/2.0 MB 3.3 MB/s eta 0:00:01\n",
      "   ---------------------------------------- 2.0/2.0 MB 3.2 MB/s eta 0:00:00\n",
      "Downloading PyYAML-6.0.2-cp312-cp312-win_amd64.whl (156 kB)\n",
      "   ---------------------------------------- 0.0/156.3 kB ? eta -:--:--\n",
      "   ------------------ --------------------- 71.7/156.3 kB 1.9 MB/s eta 0:00:01\n",
      "   ---------------------------------------- 156.3/156.3 kB 3.1 MB/s eta 0:00:00\n",
      "Downloading requests-2.32.3-py3-none-any.whl (64 kB)\n",
      "   ---------------------------------------- 0.0/64.9 kB ? eta -:--:--\n",
      "   ---------------------------------------- 64.9/64.9 kB 1.7 MB/s eta 0:00:00\n",
      "Downloading sqlalchemy-2.0.40-cp312-cp312-win_amd64.whl (2.1 MB)\n",
      "   ---------------------------------------- 0.0/2.1 MB ? eta -:--:--\n",
      "   -- ------------------------------------- 0.2/2.1 MB 3.1 MB/s eta 0:00:01\n",
      "   ----- ---------------------------------- 0.3/2.1 MB 3.8 MB/s eta 0:00:01\n",
      "   -------- ------------------------------- 0.5/2.1 MB 3.7 MB/s eta 0:00:01\n",
      "   ------------ --------------------------- 0.6/2.1 MB 3.6 MB/s eta 0:00:01\n",
      "   -------------- ------------------------- 0.8/2.1 MB 3.5 MB/s eta 0:00:01\n",
      "   ------------------ --------------------- 1.0/2.1 MB 3.6 MB/s eta 0:00:01\n",
      "   -------------------- ------------------- 1.1/2.1 MB 3.7 MB/s eta 0:00:01\n",
      "   ------------------------- -------------- 1.3/2.1 MB 3.7 MB/s eta 0:00:01\n",
      "   ----------------------------- ---------- 1.5/2.1 MB 3.8 MB/s eta 0:00:01\n",
      "   -------------------------------- ------- 1.7/2.1 MB 3.8 MB/s eta 0:00:01\n",
      "   ----------------------------------- ---- 1.9/2.1 MB 3.9 MB/s eta 0:00:01\n",
      "   -------------------------------------- - 2.0/2.1 MB 3.8 MB/s eta 0:00:01\n",
      "   ---------------------------------------- 2.1/2.1 MB 3.7 MB/s eta 0:00:00\n",
      "Using cached annotated_types-0.7.0-py3-none-any.whl (13 kB)\n",
      "Downloading certifi-2025.4.26-py3-none-any.whl (159 kB)\n",
      "   ---------------------------------------- 0.0/159.6 kB ? eta -:--:--\n",
      "   ---------------------------------------- 159.6/159.6 kB 4.8 MB/s eta 0:00:00\n",
      "Downloading charset_normalizer-3.4.1-cp312-cp312-win_amd64.whl (102 kB)\n",
      "   ---------------------------------------- 0.0/102.8 kB ? eta -:--:--\n",
      "   ---------------------------------------  102.4/102.8 kB 2.9 MB/s eta 0:00:01\n",
      "   ---------------------------------------- 102.8/102.8 kB 2.0 MB/s eta 0:00:00\n",
      "Downloading greenlet-3.2.1-cp312-cp312-win_amd64.whl (296 kB)\n",
      "   ---------------------------------------- 0.0/296.2 kB ? eta -:--:--\n",
      "   ---------------------- ----------------- 163.8/296.2 kB 9.6 MB/s eta 0:00:01\n",
      "   ---------------------------------------- 296.2/296.2 kB 6.1 MB/s eta 0:00:00\n",
      "Downloading httpx-0.28.1-py3-none-any.whl (73 kB)\n",
      "   ---------------------------------------- 0.0/73.5 kB ? eta -:--:--\n",
      "   ---------------------------------------- 73.5/73.5 kB 2.0 MB/s eta 0:00:00\n",
      "Downloading httpcore-1.0.9-py3-none-any.whl (78 kB)\n",
      "   ---------------------------------------- 0.0/78.8 kB ? eta -:--:--\n",
      "   ---------------------------------------- 78.8/78.8 kB 2.2 MB/s eta 0:00:00\n",
      "Downloading idna-3.10-py3-none-any.whl (70 kB)\n",
      "   ---------------------------------------- 0.0/70.4 kB ? eta -:--:--\n",
      "   ---------------------------------------- 70.4/70.4 kB 1.9 MB/s eta 0:00:00\n",
      "Downloading jsonpatch-1.33-py2.py3-none-any.whl (12 kB)\n",
      "Downloading orjson-3.10.16-cp312-cp312-win_amd64.whl (133 kB)\n",
      "   ---------------------------------------- 0.0/133.9 kB ? eta -:--:--\n",
      "   ---------------------------------------  133.1/133.9 kB 2.6 MB/s eta 0:00:01\n",
      "   ---------------------------------------- 133.9/133.9 kB 2.0 MB/s eta 0:00:00\n",
      "Downloading packaging-24.2-py3-none-any.whl (65 kB)\n",
      "   ---------------------------------------- 0.0/65.5 kB ? eta -:--:--\n",
      "   ---------------------------------------- 65.5/65.5 kB 3.7 MB/s eta 0:00:00\n",
      "Downloading requests_toolbelt-1.0.0-py2.py3-none-any.whl (54 kB)\n",
      "   ---------------------------------------- 0.0/54.5 kB ? eta -:--:--\n",
      "   ------------------------------------- -- 51.2/54.5 kB ? eta -:--:--\n",
      "   ---------------------------------------- 54.5/54.5 kB 2.9 MB/s eta 0:00:00\n",
      "Downloading tenacity-9.1.2-py3-none-any.whl (28 kB)\n",
      "Downloading typing_extensions-4.13.2-py3-none-any.whl (45 kB)\n",
      "   ---------------------------------------- 0.0/45.8 kB ? eta -:--:--\n",
      "   ---------------------------------------- 45.8/45.8 kB ? eta 0:00:00\n",
      "Downloading typing_inspection-0.4.0-py3-none-any.whl (14 kB)\n",
      "Downloading urllib3-2.4.0-py3-none-any.whl (128 kB)\n",
      "   ---------------------------------------- 0.0/128.7 kB ? eta -:--:--\n",
      "   ---------------------------------------- 128.7/128.7 kB 3.8 MB/s eta 0:00:00\n",
      "Downloading zstandard-0.23.0-cp312-cp312-win_amd64.whl (495 kB)\n",
      "   ---------------------------------------- 0.0/495.6 kB ? eta -:--:--\n",
      "   ------------------------- -------------- 317.4/495.6 kB 6.5 MB/s eta 0:00:01\n",
      "   ---------------------------------------- 495.6/495.6 kB 5.2 MB/s eta 0:00:00\n",
      "Downloading jsonpointer-3.0.0-py2.py3-none-any.whl (7.6 kB)\n",
      "Downloading anyio-4.9.0-py3-none-any.whl (100 kB)\n",
      "   ---------------------------------------- 0.0/100.9 kB ? eta -:--:--\n",
      "   ---------------------------------------- 100.9/100.9 kB 2.8 MB/s eta 0:00:00\n",
      "Downloading h11-0.16.0-py3-none-any.whl (37 kB)\n",
      "Using cached sniffio-1.3.1-py3-none-any.whl (10 kB)\n",
      "Installing collected packages: zstandard, urllib3, typing-extensions, tenacity, sniffio, PyYAML, packaging, orjson, jsonpointer, idna, h11, greenlet, charset-normalizer, certifi, annotated-types, typing-inspection, SQLAlchemy, requests, pydantic-core, jsonpatch, httpcore, anyio, requests-toolbelt, pydantic, httpx, langsmith, langchain-core, langchain-text-splitters, langchain\n",
      "  Attempting uninstall: packaging\n",
      "    Found existing installation: packaging 25.0\n",
      "    Uninstalling packaging-25.0:\n",
      "      Successfully uninstalled packaging-25.0\n",
      "Successfully installed PyYAML-6.0.2 SQLAlchemy-2.0.40 annotated-types-0.7.0 anyio-4.9.0 certifi-2025.4.26 charset-normalizer-3.4.1 greenlet-3.2.1 h11-0.16.0 httpcore-1.0.9 httpx-0.28.1 idna-3.10 jsonpatch-1.33 jsonpointer-3.0.0 langchain-0.3.24 langchain-core-0.3.56 langchain-text-splitters-0.3.8 langsmith-0.3.37 orjson-3.10.16 packaging-24.2 pydantic-2.11.3 pydantic-core-2.33.1 requests-2.32.3 requests-toolbelt-1.0.0 sniffio-1.3.1 tenacity-9.1.2 typing-extensions-4.13.2 typing-inspection-0.4.0 urllib3-2.4.0 zstandard-0.23.0\n"
     ]
    },
    {
     "name": "stderr",
     "output_type": "stream",
     "text": [
      "\n",
      "[notice] A new release of pip is available: 23.2.1 -> 25.0.1\n",
      "[notice] To update, run: python.exe -m pip install --upgrade pip\n"
     ]
    }
   ],
   "source": [
    "!pip install langchain"
   ]
  },
  {
   "cell_type": "code",
   "execution_count": 1,
   "metadata": {},
   "outputs": [
    {
     "data": {
      "text/plain": [
       "'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'"
      ]
     },
     "execution_count": 1,
     "metadata": {},
     "output_type": "execute_result"
    }
   ],
   "source": [
    "### Open AI API Key and Open Source models--Llama3,Gemma2,mistral--Groq\n",
    "\n",
    "import os\n",
    "from dotenv import load_dotenv\n",
    "load_dotenv()\n",
    "\n",
    "import openai\n",
    "openai.api_key=os.getenv(\"OPENAI_API_KEY\")\n",
    "\n",
    "groq_api_key=os.getenv(\"GROQ_API_KEY\")\n",
    "groq_api_key"
   ]
  },
  {
   "cell_type": "code",
   "execution_count": 3,
   "metadata": {},
   "outputs": [
    {
     "name": "stdout",
     "output_type": "stream",
     "text": [
      "Collecting langchain_groq\n",
      "  Obtaining dependency information for langchain_groq from https://files.pythonhosted.org/packages/c0/58/0d5a19168119c1bd7758ab28d9e6b5c12ba1091bb283f4dc13ca5df7651b/langchain_groq-0.3.2-py3-none-any.whl.metadata\n",
      "  Downloading langchain_groq-0.3.2-py3-none-any.whl.metadata (2.6 kB)\n",
      "Requirement already satisfied: langchain-core<1.0.0,>=0.3.49 in c:\\users\\amitk\\onedrive\\desktop\\new folder\\myenv\\lib\\site-packages (from langchain_groq) (0.3.56)\n",
      "Collecting groq<1,>=0.4.1 (from langchain_groq)\n",
      "  Obtaining dependency information for groq<1,>=0.4.1 from https://files.pythonhosted.org/packages/ae/9a/54948664261f707a24377ee7e280dbca52b7265fce8613c52dae0cbf5cf5/groq-0.23.1-py3-none-any.whl.metadata\n",
      "  Downloading groq-0.23.1-py3-none-any.whl.metadata (15 kB)\n",
      "Requirement already satisfied: anyio<5,>=3.5.0 in c:\\users\\amitk\\onedrive\\desktop\\new folder\\myenv\\lib\\site-packages (from groq<1,>=0.4.1->langchain_groq) (4.9.0)\n",
      "Collecting distro<2,>=1.7.0 (from groq<1,>=0.4.1->langchain_groq)\n",
      "  Obtaining dependency information for distro<2,>=1.7.0 from https://files.pythonhosted.org/packages/12/b3/231ffd4ab1fc9d679809f356cebee130ac7daa00d6d6f3206dd4fd137e9e/distro-1.9.0-py3-none-any.whl.metadata\n",
      "  Using cached distro-1.9.0-py3-none-any.whl.metadata (6.8 kB)\n",
      "Requirement already satisfied: httpx<1,>=0.23.0 in c:\\users\\amitk\\onedrive\\desktop\\new folder\\myenv\\lib\\site-packages (from groq<1,>=0.4.1->langchain_groq) (0.28.1)\n",
      "Requirement already satisfied: pydantic<3,>=1.9.0 in c:\\users\\amitk\\onedrive\\desktop\\new folder\\myenv\\lib\\site-packages (from groq<1,>=0.4.1->langchain_groq) (2.11.3)\n",
      "Requirement already satisfied: sniffio in c:\\users\\amitk\\onedrive\\desktop\\new folder\\myenv\\lib\\site-packages (from groq<1,>=0.4.1->langchain_groq) (1.3.1)\n",
      "Requirement already satisfied: typing-extensions<5,>=4.10 in c:\\users\\amitk\\onedrive\\desktop\\new folder\\myenv\\lib\\site-packages (from groq<1,>=0.4.1->langchain_groq) (4.13.2)\n",
      "Requirement already satisfied: langsmith<0.4,>=0.1.125 in c:\\users\\amitk\\onedrive\\desktop\\new folder\\myenv\\lib\\site-packages (from langchain-core<1.0.0,>=0.3.49->langchain_groq) (0.3.37)\n",
      "Requirement already satisfied: tenacity!=8.4.0,<10.0.0,>=8.1.0 in c:\\users\\amitk\\onedrive\\desktop\\new folder\\myenv\\lib\\site-packages (from langchain-core<1.0.0,>=0.3.49->langchain_groq) (9.1.2)\n",
      "Requirement already satisfied: jsonpatch<2.0,>=1.33 in c:\\users\\amitk\\onedrive\\desktop\\new folder\\myenv\\lib\\site-packages (from langchain-core<1.0.0,>=0.3.49->langchain_groq) (1.33)\n",
      "Requirement already satisfied: PyYAML>=5.3 in c:\\users\\amitk\\onedrive\\desktop\\new folder\\myenv\\lib\\site-packages (from langchain-core<1.0.0,>=0.3.49->langchain_groq) (6.0.2)\n",
      "Requirement already satisfied: packaging<25,>=23.2 in c:\\users\\amitk\\onedrive\\desktop\\new folder\\myenv\\lib\\site-packages (from langchain-core<1.0.0,>=0.3.49->langchain_groq) (24.2)\n",
      "Requirement already satisfied: idna>=2.8 in c:\\users\\amitk\\onedrive\\desktop\\new folder\\myenv\\lib\\site-packages (from anyio<5,>=3.5.0->groq<1,>=0.4.1->langchain_groq) (3.10)\n",
      "Requirement already satisfied: certifi in c:\\users\\amitk\\onedrive\\desktop\\new folder\\myenv\\lib\\site-packages (from httpx<1,>=0.23.0->groq<1,>=0.4.1->langchain_groq) (2025.4.26)\n",
      "Requirement already satisfied: httpcore==1.* in c:\\users\\amitk\\onedrive\\desktop\\new folder\\myenv\\lib\\site-packages (from httpx<1,>=0.23.0->groq<1,>=0.4.1->langchain_groq) (1.0.9)\n",
      "Requirement already satisfied: h11>=0.16 in c:\\users\\amitk\\onedrive\\desktop\\new folder\\myenv\\lib\\site-packages (from httpcore==1.*->httpx<1,>=0.23.0->groq<1,>=0.4.1->langchain_groq) (0.16.0)\n",
      "Requirement already satisfied: jsonpointer>=1.9 in c:\\users\\amitk\\onedrive\\desktop\\new folder\\myenv\\lib\\site-packages (from jsonpatch<2.0,>=1.33->langchain-core<1.0.0,>=0.3.49->langchain_groq) (3.0.0)\n",
      "Requirement already satisfied: orjson<4.0.0,>=3.9.14 in c:\\users\\amitk\\onedrive\\desktop\\new folder\\myenv\\lib\\site-packages (from langsmith<0.4,>=0.1.125->langchain-core<1.0.0,>=0.3.49->langchain_groq) (3.10.16)\n",
      "Requirement already satisfied: requests<3,>=2 in c:\\users\\amitk\\onedrive\\desktop\\new folder\\myenv\\lib\\site-packages (from langsmith<0.4,>=0.1.125->langchain-core<1.0.0,>=0.3.49->langchain_groq) (2.32.3)\n",
      "Requirement already satisfied: requests-toolbelt<2.0.0,>=1.0.0 in c:\\users\\amitk\\onedrive\\desktop\\new folder\\myenv\\lib\\site-packages (from langsmith<0.4,>=0.1.125->langchain-core<1.0.0,>=0.3.49->langchain_groq) (1.0.0)\n",
      "Requirement already satisfied: zstandard<0.24.0,>=0.23.0 in c:\\users\\amitk\\onedrive\\desktop\\new folder\\myenv\\lib\\site-packages (from langsmith<0.4,>=0.1.125->langchain-core<1.0.0,>=0.3.49->langchain_groq) (0.23.0)\n",
      "Requirement already satisfied: annotated-types>=0.6.0 in c:\\users\\amitk\\onedrive\\desktop\\new folder\\myenv\\lib\\site-packages (from pydantic<3,>=1.9.0->groq<1,>=0.4.1->langchain_groq) (0.7.0)\n",
      "Requirement already satisfied: pydantic-core==2.33.1 in c:\\users\\amitk\\onedrive\\desktop\\new folder\\myenv\\lib\\site-packages (from pydantic<3,>=1.9.0->groq<1,>=0.4.1->langchain_groq) (2.33.1)\n",
      "Requirement already satisfied: typing-inspection>=0.4.0 in c:\\users\\amitk\\onedrive\\desktop\\new folder\\myenv\\lib\\site-packages (from pydantic<3,>=1.9.0->groq<1,>=0.4.1->langchain_groq) (0.4.0)\n",
      "Requirement already satisfied: charset-normalizer<4,>=2 in c:\\users\\amitk\\onedrive\\desktop\\new folder\\myenv\\lib\\site-packages (from requests<3,>=2->langsmith<0.4,>=0.1.125->langchain-core<1.0.0,>=0.3.49->langchain_groq) (3.4.1)\n",
      "Requirement already satisfied: urllib3<3,>=1.21.1 in c:\\users\\amitk\\onedrive\\desktop\\new folder\\myenv\\lib\\site-packages (from requests<3,>=2->langsmith<0.4,>=0.1.125->langchain-core<1.0.0,>=0.3.49->langchain_groq) (2.4.0)\n",
      "Downloading langchain_groq-0.3.2-py3-none-any.whl (15 kB)\n",
      "Downloading groq-0.23.1-py3-none-any.whl (127 kB)\n",
      "   ---------------------------------------- 0.0/127.4 kB ? eta -:--:--\n",
      "   --------- ------------------------------ 30.7/127.4 kB ? eta -:--:--\n",
      "   --------- ------------------------------ 30.7/127.4 kB ? eta -:--:--\n",
      "   ------------------ -------------------- 61.4/127.4 kB 544.7 kB/s eta 0:00:01\n",
      "   ---------------------------- ---------- 92.2/127.4 kB 521.8 kB/s eta 0:00:01\n",
      "   -------------------------------------- 127.4/127.4 kB 574.1 kB/s eta 0:00:00\n",
      "Using cached distro-1.9.0-py3-none-any.whl (20 kB)\n",
      "Installing collected packages: distro, groq, langchain_groq\n",
      "Successfully installed distro-1.9.0 groq-0.23.1 langchain_groq-0.3.2\n"
     ]
    },
    {
     "name": "stderr",
     "output_type": "stream",
     "text": [
      "\n",
      "[notice] A new release of pip is available: 23.2.1 -> 25.0.1\n",
      "[notice] To update, run: python.exe -m pip install --upgrade pip\n"
     ]
    }
   ],
   "source": [
    "!pip install langchain_groq"
   ]
  },
  {
   "cell_type": "code",
   "execution_count": 6,
   "metadata": {},
   "outputs": [
    {
     "name": "stdout",
     "output_type": "stream",
     "text": [
      "Collecting openai\n",
      "  Obtaining dependency information for openai from https://files.pythonhosted.org/packages/59/aa/84e02ab500ca871eb8f62784426963a1c7c17a72fea3c7f268af4bbaafa5/openai-1.76.0-py3-none-any.whl.metadata\n",
      "  Downloading openai-1.76.0-py3-none-any.whl.metadata (25 kB)\n",
      "Requirement already satisfied: anyio<5,>=3.5.0 in c:\\users\\amitk\\onedrive\\desktop\\new folder\\myenv\\lib\\site-packages (from openai) (4.9.0)\n",
      "Requirement already satisfied: distro<2,>=1.7.0 in c:\\users\\amitk\\onedrive\\desktop\\new folder\\myenv\\lib\\site-packages (from openai) (1.9.0)\n",
      "Requirement already satisfied: httpx<1,>=0.23.0 in c:\\users\\amitk\\onedrive\\desktop\\new folder\\myenv\\lib\\site-packages (from openai) (0.28.1)\n",
      "Collecting jiter<1,>=0.4.0 (from openai)\n",
      "  Obtaining dependency information for jiter<1,>=0.4.0 from https://files.pythonhosted.org/packages/cd/9d/742b289016d155f49028fe1bfbeb935c9bf0ffeefdf77daf4a63a42bb72b/jiter-0.9.0-cp312-cp312-win_amd64.whl.metadata\n",
      "  Downloading jiter-0.9.0-cp312-cp312-win_amd64.whl.metadata (5.3 kB)\n",
      "Requirement already satisfied: pydantic<3,>=1.9.0 in c:\\users\\amitk\\onedrive\\desktop\\new folder\\myenv\\lib\\site-packages (from openai) (2.11.3)\n",
      "Requirement already satisfied: sniffio in c:\\users\\amitk\\onedrive\\desktop\\new folder\\myenv\\lib\\site-packages (from openai) (1.3.1)\n",
      "Collecting tqdm>4 (from openai)\n",
      "  Obtaining dependency information for tqdm>4 from https://files.pythonhosted.org/packages/d0/30/dc54f88dd4a2b5dc8a0279bdd7270e735851848b762aeb1c1184ed1f6b14/tqdm-4.67.1-py3-none-any.whl.metadata\n",
      "  Downloading tqdm-4.67.1-py3-none-any.whl.metadata (57 kB)\n",
      "     ---------------------------------------- 0.0/57.7 kB ? eta -:--:--\n",
      "     ------- -------------------------------- 10.2/57.7 kB ? eta -:--:--\n",
      "     ------- -------------------------------- 10.2/57.7 kB ? eta -:--:--\n",
      "     -------------------------- ----------- 41.0/57.7 kB 245.8 kB/s eta 0:00:01\n",
      "     -------------------------------------- 57.7/57.7 kB 304.1 kB/s eta 0:00:00\n",
      "Requirement already satisfied: typing-extensions<5,>=4.11 in c:\\users\\amitk\\onedrive\\desktop\\new folder\\myenv\\lib\\site-packages (from openai) (4.13.2)\n",
      "Requirement already satisfied: idna>=2.8 in c:\\users\\amitk\\onedrive\\desktop\\new folder\\myenv\\lib\\site-packages (from anyio<5,>=3.5.0->openai) (3.10)\n",
      "Requirement already satisfied: certifi in c:\\users\\amitk\\onedrive\\desktop\\new folder\\myenv\\lib\\site-packages (from httpx<1,>=0.23.0->openai) (2025.4.26)\n",
      "Requirement already satisfied: httpcore==1.* in c:\\users\\amitk\\onedrive\\desktop\\new folder\\myenv\\lib\\site-packages (from httpx<1,>=0.23.0->openai) (1.0.9)\n",
      "Requirement already satisfied: h11>=0.16 in c:\\users\\amitk\\onedrive\\desktop\\new folder\\myenv\\lib\\site-packages (from httpcore==1.*->httpx<1,>=0.23.0->openai) (0.16.0)\n",
      "Requirement already satisfied: annotated-types>=0.6.0 in c:\\users\\amitk\\onedrive\\desktop\\new folder\\myenv\\lib\\site-packages (from pydantic<3,>=1.9.0->openai) (0.7.0)\n",
      "Requirement already satisfied: pydantic-core==2.33.1 in c:\\users\\amitk\\onedrive\\desktop\\new folder\\myenv\\lib\\site-packages (from pydantic<3,>=1.9.0->openai) (2.33.1)\n",
      "Requirement already satisfied: typing-inspection>=0.4.0 in c:\\users\\amitk\\onedrive\\desktop\\new folder\\myenv\\lib\\site-packages (from pydantic<3,>=1.9.0->openai) (0.4.0)\n",
      "Requirement already satisfied: colorama in c:\\users\\amitk\\onedrive\\desktop\\new folder\\myenv\\lib\\site-packages (from tqdm>4->openai) (0.4.6)\n",
      "Downloading openai-1.76.0-py3-none-any.whl (661 kB)\n",
      "   ---------------------------------------- 0.0/661.2 kB ? eta -:--:--\n",
      "   --- ------------------------------------ 61.4/661.2 kB 3.4 MB/s eta 0:00:01\n",
      "   --- ------------------------------------ 61.4/661.2 kB 3.4 MB/s eta 0:00:01\n",
      "   ---------- ----------------------------- 174.1/661.2 kB 1.3 MB/s eta 0:00:01\n",
      "   ----------- ---------------------------- 184.3/661.2 kB 1.1 MB/s eta 0:00:01\n",
      "   ------------------ --------------------- 307.2/661.2 kB 1.5 MB/s eta 0:00:01\n",
      "   ------------------------- -------------- 419.8/661.2 kB 1.8 MB/s eta 0:00:01\n",
      "   ------------------------------ --------- 512.0/661.2 kB 1.7 MB/s eta 0:00:01\n",
      "   ------------------------------------ --- 604.2/661.2 kB 1.7 MB/s eta 0:00:01\n",
      "   ---------------------------------------- 661.2/661.2 kB 1.7 MB/s eta 0:00:00\n",
      "Downloading jiter-0.9.0-cp312-cp312-win_amd64.whl (207 kB)\n",
      "   ---------------------------------------- 0.0/208.0 kB ? eta -:--:--\n",
      "   ---------------------------------------  204.8/208.0 kB 6.3 MB/s eta 0:00:01\n",
      "   ---------------------------------------- 208.0/208.0 kB 4.2 MB/s eta 0:00:00\n",
      "Downloading tqdm-4.67.1-py3-none-any.whl (78 kB)\n",
      "   ---------------------------------------- 0.0/78.5 kB ? eta -:--:--\n",
      "   ---------------------------------------- 78.5/78.5 kB 4.3 MB/s eta 0:00:00\n",
      "Installing collected packages: tqdm, jiter, openai\n",
      "Successfully installed jiter-0.9.0 openai-1.76.0 tqdm-4.67.1\n"
     ]
    },
    {
     "name": "stderr",
     "output_type": "stream",
     "text": [
      "\n",
      "[notice] A new release of pip is available: 23.2.1 -> 25.0.1\n",
      "[notice] To update, run: python.exe -m pip install --upgrade pip\n"
     ]
    }
   ],
   "source": [
    "!pip install openai\n"
   ]
  },
  {
   "cell_type": "code",
   "execution_count": null,
   "metadata": {},
   "outputs": [
    {
     "data": {
      "text/plain": [
       "ChatGroq(client=<groq.resources.chat.completions.Completions object at 0x000002687E0D9060>, async_client=<groq.resources.chat.completions.AsyncCompletions object at 0x000002687E0DA170>, model_name='gemma2-9b-it', model_kwargs={}, groq_api_key=SecretStr('**********'))"
      ]
     },
     "execution_count": 9,
     "metadata": {},
     "output_type": "execute_result"
    }
   ],
   "source": [
    "from langchain_openai import ChatOpenAI\n",
    "from langchain_groq import ChatGroq\n",
    "model=ChatGroq(model=\"gemma2-9b-it\",groq_api_key=groq_api_key)\n",
    "model "
   ]
  },
  {
   "cell_type": "code",
   "execution_count": 14,
   "metadata": {},
   "outputs": [
    {
     "name": "stdout",
     "output_type": "stream",
     "text": [
      "Requirement already satisfied: langchain_core in e:\\udemy final\\langchain\\venv\\lib\\site-packages (0.2.10)\n",
      "Requirement already satisfied: PyYAML>=5.3 in e:\\udemy final\\langchain\\venv\\lib\\site-packages (from langchain_core) (6.0.1)\n",
      "Requirement already satisfied: jsonpatch<2.0,>=1.33 in e:\\udemy final\\langchain\\venv\\lib\\site-packages (from langchain_core) (1.33)\n",
      "Requirement already satisfied: langsmith<0.2.0,>=0.1.75 in e:\\udemy final\\langchain\\venv\\lib\\site-packages (from langchain_core) (0.1.77)\n",
      "Requirement already satisfied: packaging<25,>=23.2 in e:\\udemy final\\langchain\\venv\\lib\\site-packages (from langchain_core) (24.1)\n",
      "Requirement already satisfied: pydantic<3,>=1 in e:\\udemy final\\langchain\\venv\\lib\\site-packages (from langchain_core) (2.7.4)\n",
      "Requirement already satisfied: tenacity!=8.4.0,<9.0.0,>=8.1.0 in e:\\udemy final\\langchain\\venv\\lib\\site-packages (from langchain_core) (8.4.1)\n",
      "Requirement already satisfied: jsonpointer>=1.9 in e:\\udemy final\\langchain\\venv\\lib\\site-packages (from jsonpatch<2.0,>=1.33->langchain_core) (3.0.0)\n",
      "Requirement already satisfied: orjson<4.0.0,>=3.9.14 in e:\\udemy final\\langchain\\venv\\lib\\site-packages (from langsmith<0.2.0,>=0.1.75->langchain_core) (3.10.5)\n",
      "Requirement already satisfied: requests<3,>=2 in e:\\udemy final\\langchain\\venv\\lib\\site-packages (from langsmith<0.2.0,>=0.1.75->langchain_core) (2.31.0)\n",
      "Requirement already satisfied: annotated-types>=0.4.0 in e:\\udemy final\\langchain\\venv\\lib\\site-packages (from pydantic<3,>=1->langchain_core) (0.7.0)\n",
      "Requirement already satisfied: pydantic-core==2.18.4 in e:\\udemy final\\langchain\\venv\\lib\\site-packages (from pydantic<3,>=1->langchain_core) (2.18.4)\n",
      "Requirement already satisfied: typing-extensions>=4.6.1 in e:\\udemy final\\langchain\\venv\\lib\\site-packages (from pydantic<3,>=1->langchain_core) (4.12.2)\n",
      "Requirement already satisfied: charset-normalizer<4,>=2 in e:\\udemy final\\langchain\\venv\\lib\\site-packages (from requests<3,>=2->langsmith<0.2.0,>=0.1.75->langchain_core) (3.3.2)\n",
      "Requirement already satisfied: idna<4,>=2.5 in e:\\udemy final\\langchain\\venv\\lib\\site-packages (from requests<3,>=2->langsmith<0.2.0,>=0.1.75->langchain_core) (3.7)\n",
      "Requirement already satisfied: urllib3<3,>=1.21.1 in e:\\udemy final\\langchain\\venv\\lib\\site-packages (from requests<3,>=2->langsmith<0.2.0,>=0.1.75->langchain_core) (2.2.2)\n",
      "Requirement already satisfied: certifi>=2017.4.17 in e:\\udemy final\\langchain\\venv\\lib\\site-packages (from requests<3,>=2->langsmith<0.2.0,>=0.1.75->langchain_core) (2024.6.2)\n"
     ]
    }
   ],
   "source": [
    "!pip install langchain_core"
   ]
  },
  {
   "cell_type": "code",
   "execution_count": 51,
   "metadata": {},
   "outputs": [],
   "source": [
    "from langchain_core.messages import HumanMessage,SystemMessage\n",
    "\n",
    "messages=[\n",
    "    SystemMessage(content=\"tell capital of all countries capital like india\"),\n",
    "    HumanMessage(content=\"india capital is delhi \")\n",
    "]\n",
    "\n",
    "result=model.invoke(messages)     "
   ]
  },
  {
   "cell_type": "code",
   "execution_count": 52,
   "metadata": {},
   "outputs": [
    {
     "data": {
      "text/plain": [
       "AIMessage(content=\"You got it! Here's a list of countries and their capitals:\\n\\n**Africa**\\n\\n* Algeria - Algiers\\n* Angola - Luanda\\n* Benin - Porto-Novo\\n* Botswana - Gaborone\\n* Burkina Faso - Ouagadougou\\n* Burundi - Gitega\\n* Cabo Verde - Praia\\n* Cameroon - Yaoundé\\n* Central African Republic - Bangui\\n* Chad - N'Djamena\\n* Comoros - Moroni\\n* Democratic Republic of the Congo - Kinshasa\\n* Republic of the Congo - Brazzaville\\n* Côte d'Ivoire - Yamoussoukro\\n* Djibouti - Djibouti City\\n* Egypt - Cairo\\n* Equatorial Guinea - Malabo\\n* Eritrea - Asmara\\n* Eswatini - Mbabane\\n* Ethiopia - Addis Ababa\\n* Gabon - Libreville\\n* Gambia - Banjul\\n* Ghana - Accra\\n* Guinea - Conakry\\n* Guinea-Bissau - Bissau\\n* Kenya - Nairobi\\n* Lesotho - Maseru\\n* Liberia - Monrovia\\n* Libya - Tripoli\\n* Madagascar - Antananarivo\\n* Malawi - Lilongwe\\n* Mali - Bamako\\n* Mauritania - Nouakchott\\n* Mauritius - Port Louis\\n* Morocco - Rabat\\n* Mozambique - Maputo\\n* Namibia - Windhoek\\n* Niger - Niamey\\n* Nigeria - Abuja\\n* Rwanda - Kigali\\n* São Tomé and Príncipe - São Tomé\\n* Senegal - Dakar\\n* Seychelles - Victoria\\n* Sierra Leone - Freetown\\n* Somalia - Mogadishu\\n* South Africa - Pretoria\\n* South Sudan - Juba\\n* Sudan - Khartoum\\n* Tanzania - Dodoma\\n* Togo - Lomé\\n* Tunisia - Tunis\\n* Uganda - Kampala\\n* Zambia - Lusaka\\n* Zimbabwe - Harare\\n\\n**Asia**\\n\\n* Afghanistan - Kabul\\n* Armenia - Yerevan\\n* Azerbaijan - Baku\\n* Bahrain - Manama\\n* Bangladesh - Dhaka\\n* Bhutan - Thimphu\\n* Brunei - Bandar Seri Begawan\\n* Cambodia - Phnom Penh\\n* China - Beijing\\n* Cyprus - Nicosia\\n* Georgia - Tbilisi\\n* India - Delhi\\n* Indonesia - Jakarta\\n* Iran - Tehran\\n* Iraq - Baghdad\\n* Israel - Jerusalem\\n* Japan - Tokyo\\n* Jordan - Amman\\n* Kazakhstan - Nur-Sultan\\n* Kuwait - Kuwait City\\n* Kyrgyzstan - Bishkek\\n* Laos - Vientiane\\n* Lebanon - Beirut\\n* Malaysia - Kuala Lumpur\\n* Maldives - Malé\\n* Mongolia - Ulaanbaatar\\n* Myanmar (Burma) - Naypyidaw\\n* Nepal - Kathmandu\\n* North Korea - Pyongyang\\n* Oman - Muscat\\n* Pakistan - Islamabad\\n* Palestine - Ramallah\\n* Philippines - Manila\\n* Qatar - Doha\\n* Saudi Arabia - Riyadh\\n* Singapore - Singapore\\n* South Korea - Seoul\\n* Sri Lanka - Sri Jayawardenepura Kotte\\n* Syria - Damascus\\n* Tajikistan - Dushanbe\\n* Thailand - Bangkok\\n* Timor-Leste - Dili\\n* Turkey - Ankara\\n* Turkmenistan - Ashgabat\\n* United Arab Emirates - Abu Dhabi\\n* Uzbekistan - Tashkent\\n* Vietnam - Hanoi\\n* Yemen - Sana'a\\n\\n**Europe**\\n\\n* Albania - Tirana\\n* Andorra - Andorra la Vella\\n* Austria - Vienna\\n* Belarus - Minsk\\n* Belgium - Brussels\\n* Bosnia and Herzegovina - Sarajevo\\n* Bulgaria - Sofia\\n* Croatia - Zagreb\\n* Cyprus - Nicosia\\n* Czech Republic - Prague\\n* Denmark - Copenhagen\\n* Estonia - Tallinn\\n* Finland - Helsinki\\n* France - Paris\\n* Germany - Berlin\\n* Greece - Athens\\n* Hungary - Budapest\\n* Iceland - Reykjavik\\n* Ireland - Dublin\\n* Italy - Rome\\n* Kazakhstan - Nur-Sultan\\n* Kosovo - Pristina\\n* Latvia - Riga\\n* Liechtenstein - Vaduz\\n* Lithuania - Vilnius\\n* Luxembourg - Luxembourg City\\n* Malta - Valletta\\n* Moldova - Chișinău\\n* Monaco - Monaco\\n* Montenegro - Podgorica\\n* Netherlands - Amsterdam\\n* North Macedonia - Skopje\\n* Norway - Oslo\\n* Poland - Warsaw\\n* Portugal - Lisbon\\n* Romania - Bucharest\\n* Russia - Moscow\\n* San Marino - San Marino\\n* Serbia - Belgrade\\n* Slovakia - Bratislava\\n* Slovenia - Ljubljana\\n* Spain - Madrid\\n* Sweden - Stockholm\\n* Switzerland - Bern\\n* Ukraine - Kyiv\\n* United Kingdom - London\\n* Vatican City - Vatican City\\n\\n**North America**\\n\\n* Antigua and Barbuda - St. John's\\n* Bahamas - Nassau\\n* Barbados - Bridgetown\\n* Belize - Belmopan\\n* Canada - Ottawa\\n* Costa Rica - San José\\n* Cuba - Havana\\n* Dominica - Roseau\\n* Dominican Republic - Santo Domingo\\n* El Salvador - San Salvador\\n* Grenada - St. George's\\n* Guatemala - Guatemala City\\n* Haiti - Port-au-Prince\\n* Honduras - Tegucigalpa\\n* Jamaica - Kingston\\n* Mexico - Mexico City\\n* Nicaragua - Managua\\n* Panama - Panama City\\n* Saint Kitts and Nevis - Basseterre\\n* Saint Lucia - Castries\\n* Saint Vincent and the Grenadines - Kingstown\\n* Trinidad and Tobago - Port of Spain\\n* United States - Washington, D.C.\\n\\n**Oceania**\\n\\n* Australia - Canberra\\n* Fiji - Suva\\n* Kiribati - Tarawa\\n* Marshall Islands - Majuro\\n* Micronesia - Palikir\\n* Nauru - Yaren\\n* New Zealand - Wellington\\n* Palau - Ngerulmud\\n* Papua New Guinea - Port Moresby\\n* Samoa - Apia\\n* Solomon Islands - Honiara\\n* Tonga - Nukuʻalofa\\n* Tuvalu - Funafuti\\n* Vanuatu - Port Vila\\n\\n**South America**\\n\\n* Argentina - Buenos Aires\\n* Bolivia - Sucre\\n* Brazil - Brasília\\n* Chile - Santiago\\n* Colombia - Bogotá\\n* Ecuador - Quito\\n* Guyana - Georgetown\\n* Paraguay - Asunción\\n* Peru - Lima\\n* Suriname - Paramaribo\\n* Uruguay - Montevideo\\n* Venezuela - Caracas\\n\\n\\n\\nLet me know if you'd like me to list capitals for a specific region!\\n\", additional_kwargs={}, response_metadata={'token_usage': {'completion_tokens': 1289, 'prompt_tokens': 22, 'total_tokens': 1311, 'completion_time': 2.343636364, 'prompt_time': 0.002142756, 'queue_time': 0.241114444, 'total_time': 2.34577912}, 'model_name': 'gemma2-9b-it', 'system_fingerprint': 'fp_10c08bf97d', 'finish_reason': 'stop', 'logprobs': None}, id='run--a21a3d67-108d-4413-838d-552a53250157-0', usage_metadata={'input_tokens': 22, 'output_tokens': 1289, 'total_tokens': 1311})"
      ]
     },
     "execution_count": 52,
     "metadata": {},
     "output_type": "execute_result"
    }
   ],
   "source": [
    "result"
   ]
  },
  {
   "cell_type": "code",
   "execution_count": 53,
   "metadata": {},
   "outputs": [
    {
     "data": {
      "text/plain": [
       "\"You got it! Here's a list of countries and their capitals:\\n\\n**Africa**\\n\\n* Algeria - Algiers\\n* Angola - Luanda\\n* Benin - Porto-Novo\\n* Botswana - Gaborone\\n* Burkina Faso - Ouagadougou\\n* Burundi - Gitega\\n* Cabo Verde - Praia\\n* Cameroon - Yaoundé\\n* Central African Republic - Bangui\\n* Chad - N'Djamena\\n* Comoros - Moroni\\n* Democratic Republic of the Congo - Kinshasa\\n* Republic of the Congo - Brazzaville\\n* Côte d'Ivoire - Yamoussoukro\\n* Djibouti - Djibouti City\\n* Egypt - Cairo\\n* Equatorial Guinea - Malabo\\n* Eritrea - Asmara\\n* Eswatini - Mbabane\\n* Ethiopia - Addis Ababa\\n* Gabon - Libreville\\n* Gambia - Banjul\\n* Ghana - Accra\\n* Guinea - Conakry\\n* Guinea-Bissau - Bissau\\n* Kenya - Nairobi\\n* Lesotho - Maseru\\n* Liberia - Monrovia\\n* Libya - Tripoli\\n* Madagascar - Antananarivo\\n* Malawi - Lilongwe\\n* Mali - Bamako\\n* Mauritania - Nouakchott\\n* Mauritius - Port Louis\\n* Morocco - Rabat\\n* Mozambique - Maputo\\n* Namibia - Windhoek\\n* Niger - Niamey\\n* Nigeria - Abuja\\n* Rwanda - Kigali\\n* São Tomé and Príncipe - São Tomé\\n* Senegal - Dakar\\n* Seychelles - Victoria\\n* Sierra Leone - Freetown\\n* Somalia - Mogadishu\\n* South Africa - Pretoria\\n* South Sudan - Juba\\n* Sudan - Khartoum\\n* Tanzania - Dodoma\\n* Togo - Lomé\\n* Tunisia - Tunis\\n* Uganda - Kampala\\n* Zambia - Lusaka\\n* Zimbabwe - Harare\\n\\n**Asia**\\n\\n* Afghanistan - Kabul\\n* Armenia - Yerevan\\n* Azerbaijan - Baku\\n* Bahrain - Manama\\n* Bangladesh - Dhaka\\n* Bhutan - Thimphu\\n* Brunei - Bandar Seri Begawan\\n* Cambodia - Phnom Penh\\n* China - Beijing\\n* Cyprus - Nicosia\\n* Georgia - Tbilisi\\n* India - Delhi\\n* Indonesia - Jakarta\\n* Iran - Tehran\\n* Iraq - Baghdad\\n* Israel - Jerusalem\\n* Japan - Tokyo\\n* Jordan - Amman\\n* Kazakhstan - Nur-Sultan\\n* Kuwait - Kuwait City\\n* Kyrgyzstan - Bishkek\\n* Laos - Vientiane\\n* Lebanon - Beirut\\n* Malaysia - Kuala Lumpur\\n* Maldives - Malé\\n* Mongolia - Ulaanbaatar\\n* Myanmar (Burma) - Naypyidaw\\n* Nepal - Kathmandu\\n* North Korea - Pyongyang\\n* Oman - Muscat\\n* Pakistan - Islamabad\\n* Palestine - Ramallah\\n* Philippines - Manila\\n* Qatar - Doha\\n* Saudi Arabia - Riyadh\\n* Singapore - Singapore\\n* South Korea - Seoul\\n* Sri Lanka - Sri Jayawardenepura Kotte\\n* Syria - Damascus\\n* Tajikistan - Dushanbe\\n* Thailand - Bangkok\\n* Timor-Leste - Dili\\n* Turkey - Ankara\\n* Turkmenistan - Ashgabat\\n* United Arab Emirates - Abu Dhabi\\n* Uzbekistan - Tashkent\\n* Vietnam - Hanoi\\n* Yemen - Sana'a\\n\\n**Europe**\\n\\n* Albania - Tirana\\n* Andorra - Andorra la Vella\\n* Austria - Vienna\\n* Belarus - Minsk\\n* Belgium - Brussels\\n* Bosnia and Herzegovina - Sarajevo\\n* Bulgaria - Sofia\\n* Croatia - Zagreb\\n* Cyprus - Nicosia\\n* Czech Republic - Prague\\n* Denmark - Copenhagen\\n* Estonia - Tallinn\\n* Finland - Helsinki\\n* France - Paris\\n* Germany - Berlin\\n* Greece - Athens\\n* Hungary - Budapest\\n* Iceland - Reykjavik\\n* Ireland - Dublin\\n* Italy - Rome\\n* Kazakhstan - Nur-Sultan\\n* Kosovo - Pristina\\n* Latvia - Riga\\n* Liechtenstein - Vaduz\\n* Lithuania - Vilnius\\n* Luxembourg - Luxembourg City\\n* Malta - Valletta\\n* Moldova - Chișinău\\n* Monaco - Monaco\\n* Montenegro - Podgorica\\n* Netherlands - Amsterdam\\n* North Macedonia - Skopje\\n* Norway - Oslo\\n* Poland - Warsaw\\n* Portugal - Lisbon\\n* Romania - Bucharest\\n* Russia - Moscow\\n* San Marino - San Marino\\n* Serbia - Belgrade\\n* Slovakia - Bratislava\\n* Slovenia - Ljubljana\\n* Spain - Madrid\\n* Sweden - Stockholm\\n* Switzerland - Bern\\n* Ukraine - Kyiv\\n* United Kingdom - London\\n* Vatican City - Vatican City\\n\\n**North America**\\n\\n* Antigua and Barbuda - St. John's\\n* Bahamas - Nassau\\n* Barbados - Bridgetown\\n* Belize - Belmopan\\n* Canada - Ottawa\\n* Costa Rica - San José\\n* Cuba - Havana\\n* Dominica - Roseau\\n* Dominican Republic - Santo Domingo\\n* El Salvador - San Salvador\\n* Grenada - St. George's\\n* Guatemala - Guatemala City\\n* Haiti - Port-au-Prince\\n* Honduras - Tegucigalpa\\n* Jamaica - Kingston\\n* Mexico - Mexico City\\n* Nicaragua - Managua\\n* Panama - Panama City\\n* Saint Kitts and Nevis - Basseterre\\n* Saint Lucia - Castries\\n* Saint Vincent and the Grenadines - Kingstown\\n* Trinidad and Tobago - Port of Spain\\n* United States - Washington, D.C.\\n\\n**Oceania**\\n\\n* Australia - Canberra\\n* Fiji - Suva\\n* Kiribati - Tarawa\\n* Marshall Islands - Majuro\\n* Micronesia - Palikir\\n* Nauru - Yaren\\n* New Zealand - Wellington\\n* Palau - Ngerulmud\\n* Papua New Guinea - Port Moresby\\n* Samoa - Apia\\n* Solomon Islands - Honiara\\n* Tonga - Nukuʻalofa\\n* Tuvalu - Funafuti\\n* Vanuatu - Port Vila\\n\\n**South America**\\n\\n* Argentina - Buenos Aires\\n* Bolivia - Sucre\\n* Brazil - Brasília\\n* Chile - Santiago\\n* Colombia - Bogotá\\n* Ecuador - Quito\\n* Guyana - Georgetown\\n* Paraguay - Asunción\\n* Peru - Lima\\n* Suriname - Paramaribo\\n* Uruguay - Montevideo\\n* Venezuela - Caracas\\n\\n\\n\\nLet me know if you'd like me to list capitals for a specific region!\\n\""
      ]
     },
     "execution_count": 53,
     "metadata": {},
     "output_type": "execute_result"
    }
   ],
   "source": [
    "from langchain_core.output_parsers import StrOutputParser\n",
    "parser=StrOutputParser()\n",
    "parser.invoke(result)"
   ]
  },
  {
   "cell_type": "code",
   "execution_count": 27,
   "metadata": {},
   "outputs": [
    {
     "data": {
      "text/plain": [
       "\"I can definitely do that! \\n\\nHere's a list of some countries and their capitals:\\n\\n* **India:** Delhi\\n* **United States:** Washington D.C.\\n* **Canada:** Ottawa\\n* **Mexico:** Mexico City \\n* **United Kingdom:** London\\n* **France:** Paris\\n* **Germany:** Berlin\\n* **Japan:** Tokyo\\n* **China:** Beijing\\n* **Brazil:** Brasilia\\n* **Australia:** Canberra\\n* **Russia:** Moscow\\n* **South Africa:** Pretoria\\n* **Italy:** Rome\\n* **Spain:** Madrid\\n\\n**Would you like me to list capitals for a specific region or continent?**  Or perhaps you'd like to know the capital of a particular country? Let me know! 🌎 \\n\\n\\n\\n\""
      ]
     },
     "execution_count": 27,
     "metadata": {},
     "output_type": "execute_result"
    }
   ],
   "source": [
    "### Using LCEL- chain the components\n",
    "chain=model|parser\n",
    "chain.invoke(messages)"
   ]
  },
  {
   "cell_type": "code",
   "execution_count": 44,
   "metadata": {},
   "outputs": [],
   "source": [
    "### Prompt Templates\n",
    "from langchain_core.prompts import ChatPromptTemplate\n",
    "\n",
    "generic_template=\"Trnaslate the following into {language}:\"\n",
    "\n",
    "prompt=ChatPromptTemplate.from_messages(\n",
    "    [(\"system\",generic_template),(\"user\",\"{text}\")]\n",
    ")\n",
    "\n"
   ]
  },
  {
   "cell_type": "code",
   "execution_count": 46,
   "metadata": {},
   "outputs": [],
   "source": [
    "result=prompt.invoke({\"language\":\"russian\",\"text\":\"Hello\"})"
   ]
  },
  {
   "cell_type": "code",
   "execution_count": 47,
   "metadata": {},
   "outputs": [
    {
     "data": {
      "text/plain": [
       "[SystemMessage(content='Trnaslate the following into russian:', additional_kwargs={}, response_metadata={}),\n",
       " HumanMessage(content='Hello', additional_kwargs={}, response_metadata={})]"
      ]
     },
     "execution_count": 47,
     "metadata": {},
     "output_type": "execute_result"
    }
   ],
   "source": [
    "result.to_messages()"
   ]
  },
  {
   "cell_type": "code",
   "execution_count": 50,
   "metadata": {},
   "outputs": [
    {
     "data": {
      "text/plain": [
       "'Меня зовут Дхирадж. \\n\\n(Mena zovut Dhiraj.) \\n'"
      ]
     },
     "execution_count": 50,
     "metadata": {},
     "output_type": "execute_result"
    }
   ],
   "source": [
    "##Chaining together components with LCEL\n",
    "chain=prompt|model|parser\n",
    "chain.invoke({\"language\":\"russian\",\"text\":\"my name is dheeraj\"})"
   ]
  },
  {
   "cell_type": "code",
   "execution_count": 25,
   "metadata": {},
   "outputs": [
    {
     "name": "stdout",
     "output_type": "stream",
     "text": [
      "Requirement already satisfied: streamlit in e:\\udemy final\\langchain\\venv\\lib\\site-packages (1.35.0)\n",
      "Requirement already satisfied: altair<6,>=4.0 in e:\\udemy final\\langchain\\venv\\lib\\site-packages (from streamlit) (5.3.0)\n",
      "Requirement already satisfied: blinker<2,>=1.0.0 in e:\\udemy final\\langchain\\venv\\lib\\site-packages (from streamlit) (1.8.2)\n",
      "Requirement already satisfied: cachetools<6,>=4.0 in e:\\udemy final\\langchain\\venv\\lib\\site-packages (from streamlit) (5.3.3)\n",
      "Requirement already satisfied: click<9,>=7.0 in e:\\udemy final\\langchain\\venv\\lib\\site-packages (from streamlit) (8.1.7)\n",
      "Requirement already satisfied: numpy<2,>=1.19.3 in e:\\udemy final\\langchain\\venv\\lib\\site-packages (from streamlit) (1.26.4)\n",
      "Requirement already satisfied: packaging<25,>=16.8 in e:\\udemy final\\langchain\\venv\\lib\\site-packages (from streamlit) (24.1)\n",
      "Requirement already satisfied: pandas<3,>=1.3.0 in e:\\udemy final\\langchain\\venv\\lib\\site-packages (from streamlit) (2.2.2)\n",
      "Requirement already satisfied: pillow<11,>=7.1.0 in e:\\udemy final\\langchain\\venv\\lib\\site-packages (from streamlit) (10.3.0)\n",
      "Requirement already satisfied: protobuf<5,>=3.20 in e:\\udemy final\\langchain\\venv\\lib\\site-packages (from streamlit) (4.25.3)\n",
      "Requirement already satisfied: pyarrow>=7.0 in e:\\udemy final\\langchain\\venv\\lib\\site-packages (from streamlit) (16.1.0)\n",
      "Requirement already satisfied: requests<3,>=2.27 in e:\\udemy final\\langchain\\venv\\lib\\site-packages (from streamlit) (2.31.0)\n",
      "Requirement already satisfied: rich<14,>=10.14.0 in e:\\udemy final\\langchain\\venv\\lib\\site-packages (from streamlit) (13.7.1)\n",
      "Requirement already satisfied: tenacity<9,>=8.1.0 in e:\\udemy final\\langchain\\venv\\lib\\site-packages (from streamlit) (8.4.1)\n",
      "Requirement already satisfied: toml<2,>=0.10.1 in e:\\udemy final\\langchain\\venv\\lib\\site-packages (from streamlit) (0.10.2)\n",
      "Requirement already satisfied: typing-extensions<5,>=4.3.0 in e:\\udemy final\\langchain\\venv\\lib\\site-packages (from streamlit) (4.12.2)\n",
      "Requirement already satisfied: gitpython!=3.1.19,<4,>=3.0.7 in e:\\udemy final\\langchain\\venv\\lib\\site-packages (from streamlit) (3.1.43)\n",
      "Requirement already satisfied: pydeck<1,>=0.8.0b4 in e:\\udemy final\\langchain\\venv\\lib\\site-packages (from streamlit) (0.9.1)\n",
      "Requirement already satisfied: tornado<7,>=6.0.3 in e:\\udemy final\\langchain\\venv\\lib\\site-packages (from streamlit) (6.4.1)\n",
      "Requirement already satisfied: watchdog>=2.1.5 in e:\\udemy final\\langchain\\venv\\lib\\site-packages (from streamlit) (4.0.1)\n",
      "Requirement already satisfied: jinja2 in e:\\udemy final\\langchain\\venv\\lib\\site-packages (from altair<6,>=4.0->streamlit) (3.1.4)\n",
      "Requirement already satisfied: jsonschema>=3.0 in e:\\udemy final\\langchain\\venv\\lib\\site-packages (from altair<6,>=4.0->streamlit) (4.22.0)\n",
      "Requirement already satisfied: toolz in e:\\udemy final\\langchain\\venv\\lib\\site-packages (from altair<6,>=4.0->streamlit) (0.12.1)\n",
      "Requirement already satisfied: colorama in e:\\udemy final\\langchain\\venv\\lib\\site-packages (from click<9,>=7.0->streamlit) (0.4.6)\n",
      "Requirement already satisfied: gitdb<5,>=4.0.1 in e:\\udemy final\\langchain\\venv\\lib\\site-packages (from gitpython!=3.1.19,<4,>=3.0.7->streamlit) (4.0.11)\n",
      "Requirement already satisfied: python-dateutil>=2.8.2 in e:\\udemy final\\langchain\\venv\\lib\\site-packages (from pandas<3,>=1.3.0->streamlit) (2.9.0.post0)\n",
      "Requirement already satisfied: pytz>=2020.1 in e:\\udemy final\\langchain\\venv\\lib\\site-packages (from pandas<3,>=1.3.0->streamlit) (2024.1)\n",
      "Requirement already satisfied: tzdata>=2022.7 in e:\\udemy final\\langchain\\venv\\lib\\site-packages (from pandas<3,>=1.3.0->streamlit) (2024.1)\n",
      "Requirement already satisfied: charset-normalizer<4,>=2 in e:\\udemy final\\langchain\\venv\\lib\\site-packages (from requests<3,>=2.27->streamlit) (3.3.2)\n",
      "Requirement already satisfied: idna<4,>=2.5 in e:\\udemy final\\langchain\\venv\\lib\\site-packages (from requests<3,>=2.27->streamlit) (3.7)\n",
      "Requirement already satisfied: urllib3<3,>=1.21.1 in e:\\udemy final\\langchain\\venv\\lib\\site-packages (from requests<3,>=2.27->streamlit) (2.2.2)\n",
      "Requirement already satisfied: certifi>=2017.4.17 in e:\\udemy final\\langchain\\venv\\lib\\site-packages (from requests<3,>=2.27->streamlit) (2024.6.2)\n",
      "Requirement already satisfied: markdown-it-py>=2.2.0 in e:\\udemy final\\langchain\\venv\\lib\\site-packages (from rich<14,>=10.14.0->streamlit) (3.0.0)\n",
      "Requirement already satisfied: pygments<3.0.0,>=2.13.0 in e:\\udemy final\\langchain\\venv\\lib\\site-packages (from rich<14,>=10.14.0->streamlit) (2.18.0)\n",
      "Requirement already satisfied: smmap<6,>=3.0.1 in e:\\udemy final\\langchain\\venv\\lib\\site-packages (from gitdb<5,>=4.0.1->gitpython!=3.1.19,<4,>=3.0.7->streamlit) (5.0.1)\n",
      "Requirement already satisfied: MarkupSafe>=2.0 in e:\\udemy final\\langchain\\venv\\lib\\site-packages (from jinja2->altair<6,>=4.0->streamlit) (2.1.5)\n",
      "Requirement already satisfied: attrs>=22.2.0 in e:\\udemy final\\langchain\\venv\\lib\\site-packages (from jsonschema>=3.0->altair<6,>=4.0->streamlit) (23.2.0)\n",
      "Requirement already satisfied: jsonschema-specifications>=2023.03.6 in e:\\udemy final\\langchain\\venv\\lib\\site-packages (from jsonschema>=3.0->altair<6,>=4.0->streamlit) (2023.12.1)\n",
      "Requirement already satisfied: referencing>=0.28.4 in e:\\udemy final\\langchain\\venv\\lib\\site-packages (from jsonschema>=3.0->altair<6,>=4.0->streamlit) (0.35.1)\n",
      "Requirement already satisfied: rpds-py>=0.7.1 in e:\\udemy final\\langchain\\venv\\lib\\site-packages (from jsonschema>=3.0->altair<6,>=4.0->streamlit) (0.18.1)\n",
      "Requirement already satisfied: mdurl~=0.1 in e:\\udemy final\\langchain\\venv\\lib\\site-packages (from markdown-it-py>=2.2.0->rich<14,>=10.14.0->streamlit) (0.1.2)\n",
      "Requirement already satisfied: six>=1.5 in e:\\udemy final\\langchain\\venv\\lib\\site-packages (from python-dateutil>=2.8.2->pandas<3,>=1.3.0->streamlit) (1.16.0)\n"
     ]
    }
   ],
   "source": [
    "!pip install streamlit"
   ]
  },
  {
   "cell_type": "code",
   "execution_count": null,
   "metadata": {},
   "outputs": [],
   "source": []
  },
  {
   "cell_type": "code",
   "execution_count": null,
   "metadata": {},
   "outputs": [],
   "source": []
  },
  {
   "cell_type": "code",
   "execution_count": null,
   "metadata": {},
   "outputs": [],
   "source": []
  },
  {
   "cell_type": "code",
   "execution_count": null,
   "metadata": {},
   "outputs": [],
   "source": []
  }
 ],
 "metadata": {
  "kernelspec": {
   "display_name": "venv",
   "language": "python",
   "name": "python3"
  },
  "language_info": {
   "codemirror_mode": {
    "name": "ipython",
    "version": 3
   },
   "file_extension": ".py",
   "mimetype": "text/x-python",
   "name": "python",
   "nbconvert_exporter": "python",
   "pygments_lexer": "ipython3",
   "version": "3.10.11"
  }
 },
 "nbformat": 4,
 "nbformat_minor": 2
}
