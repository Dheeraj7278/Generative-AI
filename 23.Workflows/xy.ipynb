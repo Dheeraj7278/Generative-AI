{
 "cells": [
  {
   "cell_type": "code",
   "execution_count": 1,
   "id": "07972c46",
   "metadata": {},
   "outputs": [
    {
     "data": {
      "text/plain": [
       "AIMessage(content='\\n<think>\\nOkay, the user said \"Hello\". I need to respond appropriately. Let me think about how to keep the conversation going. Maybe ask how they\\'re doing or if they need help with something. I should keep it friendly and open-ended. Let me check if there\\'s any specific context I should consider, but since it\\'s just a hello, a general response should be fine. Alright, I\\'ll go with something like, \"Hello! How are you today? Is there anything I can assist you with?\" That should cover greeting them and offering help.\\n</think>\\n\\nHello! How are you today? Is there anything I can assist you with? 😊', additional_kwargs={}, response_metadata={'token_usage': {'completion_tokens': 132, 'prompt_tokens': 11, 'total_tokens': 143, 'completion_time': 0.330086276, 'prompt_time': 0.00428559, 'queue_time': 0.497866599, 'total_time': 0.334371866}, 'model_name': 'qwen-qwq-32b', 'system_fingerprint': 'fp_1e88ca32eb', 'finish_reason': 'stop', 'logprobs': None}, id='run--f45ef5d4-5c3e-4302-9507-6cc20693e1d5-0', usage_metadata={'input_tokens': 11, 'output_tokens': 132, 'total_tokens': 143})"
      ]
     },
     "execution_count": 1,
     "metadata": {},
     "output_type": "execute_result"
    }
   ],
   "source": [
    "import os\n",
    "from dotenv import load_dotenv\n",
    "load_dotenv()\n",
    "\n",
    "from langchain_groq import ChatGroq\n",
    "\n",
    "\n",
    "#os.environ[\"OPENAI_API_KEY\"]=os.getenv(\"OPENAI_API_KEY\")\n",
    "os.environ[\"GROQ_API_KEY\"]=os.getenv(\"GROQ_API_KEY\")\n",
    "\n",
    "\n",
    "llm=ChatGroq(model=\"qwen-qwq-32b\")\n",
    "#llm = ChatOpenAI(model=\"gpt-4o\")\n",
    "result=llm.invoke(\"Hello\")\n",
    "result"
   ]
  },
  {
   "cell_type": "code",
   "execution_count": null,
   "id": "8777bca3",
   "metadata": {},
   "outputs": [],
   "source": [
    "from typing_extensions import TypedDict\n",
    "from langgraph.graph import StateGraph, START, END\n",
    "from IPython.display import Image ,display\n",
    "\n",
    "## Grpah State\n",
    "class State(TypedDict):\n",
    "    topic:str\n",
    "    story:str\n",
    "    improved_story:str\n",
    "    final_story:str\n",
    "\n",
    "## Nodes\n",
    "\n",
    "def generate_story(state:State):\n",
    "    msg=llm.invoke(f\"Write a one sentence story premise about {state['topic']}\")\n",
    "    return {\"story\":msg.content}\n",
    "\n",
    "def check_conflict(state:State):\n",
    "    if \"?\" in state[\"story\"] or \"!\" in state[\"story\"]:\n",
    "        return \"Fail\"\n",
    "    return \"Pass\"\n",
    "\n",
    "def improved_story(state:State):\n",
    "    msg=llm.invoke(f\"Enhance this story premise with vivid details: {state['story']}\")\n",
    "    return {\"improved_story\":msg.content}\n",
    "\n",
    "def polish_story(state:State):\n",
    "    msg=llm.invoke(f\"Add an unexpected twist to this story premise: {state['improved_story']}\")\n",
    "    return {\"final_story\":msg.content}\n",
    "\n"
   ]
  }
 ],
 "metadata": {
  "kernelspec": {
   "display_name": "venv",
   "language": "python",
   "name": "python3"
  },
  "language_info": {
   "codemirror_mode": {
    "name": "ipython",
    "version": 3
   },
   "file_extension": ".py",
   "mimetype": "text/x-python",
   "name": "python",
   "nbconvert_exporter": "python",
   "pygments_lexer": "ipython3",
   "version": "3.10.11"
  }
 },
 "nbformat": 4,
 "nbformat_minor": 5
}
