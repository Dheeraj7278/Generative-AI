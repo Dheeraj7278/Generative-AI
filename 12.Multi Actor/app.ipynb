{
 "cells": [
  {
   "cell_type": "code",
   "execution_count": 2,
   "id": "1888c931",
   "metadata": {},
   "outputs": [
    {
     "name": "stdout",
     "output_type": "stream",
     "text": [
      "Collecting langgraph\n",
      "  Downloading langgraph-0.4.1-py3-none-any.whl (151 kB)\n",
      "     ---------------------------------------- 0.0/151.2 kB ? eta -:--:--\n",
      "     ------- ------------------------------- 30.7/151.2 kB 1.3 MB/s eta 0:00:01\n",
      "     ----------------------- --------------- 92.2/151.2 kB 1.1 MB/s eta 0:00:01\n",
      "     ------------------------------ ------- 122.9/151.2 kB 1.0 MB/s eta 0:00:01\n",
      "     ------------------------------------ 151.2/151.2 kB 897.5 kB/s eta 0:00:00\n",
      "Collecting langgraph-prebuilt>=0.1.8\n",
      "  Using cached langgraph_prebuilt-0.1.8-py3-none-any.whl (25 kB)\n",
      "Requirement already satisfied: langchain-core>=0.1 in d:\\q&a chat-bot\\venv\\lib\\site-packages (from langgraph) (0.3.56)\n",
      "Collecting langgraph-checkpoint<3.0.0,>=2.0.10\n",
      "  Using cached langgraph_checkpoint-2.0.25-py3-none-any.whl (42 kB)\n",
      "Collecting langgraph-sdk>=0.1.42\n",
      "  Downloading langgraph_sdk-0.1.66-py3-none-any.whl (47 kB)\n",
      "     ---------------------------------------- 0.0/47.6 kB ? eta -:--:--\n",
      "     ---------------------------------------- 47.6/47.6 kB 1.2 MB/s eta 0:00:00\n",
      "Requirement already satisfied: pydantic>=2.7.4 in d:\\q&a chat-bot\\venv\\lib\\site-packages (from langgraph) (2.11.4)\n",
      "Requirement already satisfied: xxhash<4.0.0,>=3.5.0 in d:\\q&a chat-bot\\venv\\lib\\site-packages (from langgraph) (3.5.0)\n",
      "Requirement already satisfied: jsonpatch<2.0,>=1.33 in d:\\q&a chat-bot\\venv\\lib\\site-packages (from langchain-core>=0.1->langgraph) (1.33)\n",
      "Requirement already satisfied: PyYAML>=5.3 in d:\\q&a chat-bot\\venv\\lib\\site-packages (from langchain-core>=0.1->langgraph) (6.0.2)\n",
      "Requirement already satisfied: packaging<25,>=23.2 in d:\\q&a chat-bot\\venv\\lib\\site-packages (from langchain-core>=0.1->langgraph) (24.2)\n",
      "Requirement already satisfied: tenacity!=8.4.0,<10.0.0,>=8.1.0 in d:\\q&a chat-bot\\venv\\lib\\site-packages (from langchain-core>=0.1->langgraph) (9.1.2)\n",
      "Requirement already satisfied: typing-extensions>=4.7 in d:\\q&a chat-bot\\venv\\lib\\site-packages (from langchain-core>=0.1->langgraph) (4.13.2)\n",
      "Requirement already satisfied: langsmith<0.4,>=0.1.125 in d:\\q&a chat-bot\\venv\\lib\\site-packages (from langchain-core>=0.1->langgraph) (0.3.38)\n",
      "Collecting ormsgpack<2.0.0,>=1.8.0\n",
      "  Using cached ormsgpack-1.9.1-cp310-cp310-win_amd64.whl (125 kB)\n",
      "Requirement already satisfied: orjson>=3.10.1 in d:\\q&a chat-bot\\venv\\lib\\site-packages (from langgraph-sdk>=0.1.42->langgraph) (3.10.18)\n",
      "Requirement already satisfied: httpx>=0.25.2 in d:\\q&a chat-bot\\venv\\lib\\site-packages (from langgraph-sdk>=0.1.42->langgraph) (0.28.1)\n",
      "Requirement already satisfied: typing-inspection>=0.4.0 in d:\\q&a chat-bot\\venv\\lib\\site-packages (from pydantic>=2.7.4->langgraph) (0.4.0)\n",
      "Requirement already satisfied: annotated-types>=0.6.0 in d:\\q&a chat-bot\\venv\\lib\\site-packages (from pydantic>=2.7.4->langgraph) (0.7.0)\n",
      "Requirement already satisfied: pydantic-core==2.33.2 in d:\\q&a chat-bot\\venv\\lib\\site-packages (from pydantic>=2.7.4->langgraph) (2.33.2)\n",
      "Requirement already satisfied: httpcore==1.* in d:\\q&a chat-bot\\venv\\lib\\site-packages (from httpx>=0.25.2->langgraph-sdk>=0.1.42->langgraph) (1.0.9)\n",
      "Requirement already satisfied: anyio in d:\\q&a chat-bot\\venv\\lib\\site-packages (from httpx>=0.25.2->langgraph-sdk>=0.1.42->langgraph) (4.9.0)\n",
      "Requirement already satisfied: idna in d:\\q&a chat-bot\\venv\\lib\\site-packages (from httpx>=0.25.2->langgraph-sdk>=0.1.42->langgraph) (3.10)\n",
      "Requirement already satisfied: certifi in d:\\q&a chat-bot\\venv\\lib\\site-packages (from httpx>=0.25.2->langgraph-sdk>=0.1.42->langgraph) (2025.4.26)\n",
      "Requirement already satisfied: h11>=0.16 in d:\\q&a chat-bot\\venv\\lib\\site-packages (from httpcore==1.*->httpx>=0.25.2->langgraph-sdk>=0.1.42->langgraph) (0.16.0)\n",
      "Requirement already satisfied: jsonpointer>=1.9 in d:\\q&a chat-bot\\venv\\lib\\site-packages (from jsonpatch<2.0,>=1.33->langchain-core>=0.1->langgraph) (3.0.0)\n",
      "Requirement already satisfied: zstandard<0.24.0,>=0.23.0 in d:\\q&a chat-bot\\venv\\lib\\site-packages (from langsmith<0.4,>=0.1.125->langchain-core>=0.1->langgraph) (0.23.0)\n",
      "Requirement already satisfied: requests<3,>=2 in d:\\q&a chat-bot\\venv\\lib\\site-packages (from langsmith<0.4,>=0.1.125->langchain-core>=0.1->langgraph) (2.32.3)\n",
      "Requirement already satisfied: requests-toolbelt<2.0.0,>=1.0.0 in d:\\q&a chat-bot\\venv\\lib\\site-packages (from langsmith<0.4,>=0.1.125->langchain-core>=0.1->langgraph) (1.0.0)\n",
      "Requirement already satisfied: charset-normalizer<4,>=2 in d:\\q&a chat-bot\\venv\\lib\\site-packages (from requests<3,>=2->langsmith<0.4,>=0.1.125->langchain-core>=0.1->langgraph) (3.4.1)\n",
      "Requirement already satisfied: urllib3<3,>=1.21.1 in d:\\q&a chat-bot\\venv\\lib\\site-packages (from requests<3,>=2->langsmith<0.4,>=0.1.125->langchain-core>=0.1->langgraph) (2.4.0)\n",
      "Requirement already satisfied: sniffio>=1.1 in d:\\q&a chat-bot\\venv\\lib\\site-packages (from anyio->httpx>=0.25.2->langgraph-sdk>=0.1.42->langgraph) (1.3.1)\n",
      "Requirement already satisfied: exceptiongroup>=1.0.2 in d:\\q&a chat-bot\\venv\\lib\\site-packages (from anyio->httpx>=0.25.2->langgraph-sdk>=0.1.42->langgraph) (1.2.2)\n",
      "Installing collected packages: ormsgpack, langgraph-sdk, langgraph-checkpoint, langgraph-prebuilt, langgraph\n",
      "Successfully installed langgraph-0.4.1 langgraph-checkpoint-2.0.25 langgraph-prebuilt-0.1.8 langgraph-sdk-0.1.66 ormsgpack-1.9.1\n"
     ]
    },
    {
     "name": "stderr",
     "output_type": "stream",
     "text": [
      "\n",
      "[notice] A new release of pip is available: 23.0.1 -> 25.1\n",
      "[notice] To update, run: python.exe -m pip install --upgrade pip\n"
     ]
    }
   ],
   "source": [
    "!pip install langgraph"
   ]
  },
  {
   "cell_type": "code",
   "execution_count": 3,
   "id": "e1b7d102",
   "metadata": {},
   "outputs": [
    {
     "name": "stdout",
     "output_type": "stream",
     "text": [
      "Requirement already satisfied: langchain in d:\\q&a chat-bot\\venv\\lib\\site-packages (0.3.24)\n",
      "Requirement already satisfied: langchain_groq in d:\\q&a chat-bot\\venv\\lib\\site-packages (0.3.2)\n",
      "Requirement already satisfied: langchain_community in d:\\q&a chat-bot\\venv\\lib\\site-packages (0.3.23)\n",
      "Requirement already satisfied: pydantic<3.0.0,>=2.7.4 in d:\\q&a chat-bot\\venv\\lib\\site-packages (from langchain) (2.11.4)\n",
      "Requirement already satisfied: langchain-core<1.0.0,>=0.3.55 in d:\\q&a chat-bot\\venv\\lib\\site-packages (from langchain) (0.3.56)\n",
      "Requirement already satisfied: requests<3,>=2 in d:\\q&a chat-bot\\venv\\lib\\site-packages (from langchain) (2.32.3)\n",
      "Requirement already satisfied: async-timeout<5.0.0,>=4.0.0 in d:\\q&a chat-bot\\venv\\lib\\site-packages (from langchain) (4.0.3)\n",
      "Requirement already satisfied: PyYAML>=5.3 in d:\\q&a chat-bot\\venv\\lib\\site-packages (from langchain) (6.0.2)\n",
      "Requirement already satisfied: langchain-text-splitters<1.0.0,>=0.3.8 in d:\\q&a chat-bot\\venv\\lib\\site-packages (from langchain) (0.3.8)\n",
      "Requirement already satisfied: SQLAlchemy<3,>=1.4 in d:\\q&a chat-bot\\venv\\lib\\site-packages (from langchain) (2.0.40)\n",
      "Requirement already satisfied: langsmith<0.4,>=0.1.17 in d:\\q&a chat-bot\\venv\\lib\\site-packages (from langchain) (0.3.38)\n",
      "Requirement already satisfied: groq<1,>=0.4.1 in d:\\q&a chat-bot\\venv\\lib\\site-packages (from langchain_groq) (0.23.1)\n",
      "Requirement already satisfied: pydantic-settings<3.0.0,>=2.4.0 in d:\\q&a chat-bot\\venv\\lib\\site-packages (from langchain_community) (2.9.1)\n",
      "Requirement already satisfied: aiohttp<4.0.0,>=3.8.3 in d:\\q&a chat-bot\\venv\\lib\\site-packages (from langchain_community) (3.11.18)\n",
      "Requirement already satisfied: httpx-sse<1.0.0,>=0.4.0 in d:\\q&a chat-bot\\venv\\lib\\site-packages (from langchain_community) (0.4.0)\n",
      "Requirement already satisfied: numpy>=1.26.2 in d:\\q&a chat-bot\\venv\\lib\\site-packages (from langchain_community) (2.2.5)\n",
      "Requirement already satisfied: tenacity!=8.4.0,<10,>=8.1.0 in d:\\q&a chat-bot\\venv\\lib\\site-packages (from langchain_community) (9.1.2)\n",
      "Requirement already satisfied: dataclasses-json<0.7,>=0.5.7 in d:\\q&a chat-bot\\venv\\lib\\site-packages (from langchain_community) (0.6.7)\n",
      "Requirement already satisfied: aiosignal>=1.1.2 in d:\\q&a chat-bot\\venv\\lib\\site-packages (from aiohttp<4.0.0,>=3.8.3->langchain_community) (1.3.2)\n",
      "Requirement already satisfied: aiohappyeyeballs>=2.3.0 in d:\\q&a chat-bot\\venv\\lib\\site-packages (from aiohttp<4.0.0,>=3.8.3->langchain_community) (2.6.1)\n",
      "Requirement already satisfied: frozenlist>=1.1.1 in d:\\q&a chat-bot\\venv\\lib\\site-packages (from aiohttp<4.0.0,>=3.8.3->langchain_community) (1.6.0)\n",
      "Requirement already satisfied: multidict<7.0,>=4.5 in d:\\q&a chat-bot\\venv\\lib\\site-packages (from aiohttp<4.0.0,>=3.8.3->langchain_community) (6.4.3)\n",
      "Requirement already satisfied: attrs>=17.3.0 in d:\\q&a chat-bot\\venv\\lib\\site-packages (from aiohttp<4.0.0,>=3.8.3->langchain_community) (25.3.0)\n",
      "Requirement already satisfied: propcache>=0.2.0 in d:\\q&a chat-bot\\venv\\lib\\site-packages (from aiohttp<4.0.0,>=3.8.3->langchain_community) (0.3.1)\n",
      "Requirement already satisfied: yarl<2.0,>=1.17.0 in d:\\q&a chat-bot\\venv\\lib\\site-packages (from aiohttp<4.0.0,>=3.8.3->langchain_community) (1.20.0)\n",
      "Requirement already satisfied: typing-inspect<1,>=0.4.0 in d:\\q&a chat-bot\\venv\\lib\\site-packages (from dataclasses-json<0.7,>=0.5.7->langchain_community) (0.9.0)\n",
      "Requirement already satisfied: marshmallow<4.0.0,>=3.18.0 in d:\\q&a chat-bot\\venv\\lib\\site-packages (from dataclasses-json<0.7,>=0.5.7->langchain_community) (3.26.1)\n",
      "Requirement already satisfied: sniffio in d:\\q&a chat-bot\\venv\\lib\\site-packages (from groq<1,>=0.4.1->langchain_groq) (1.3.1)\n",
      "Requirement already satisfied: anyio<5,>=3.5.0 in d:\\q&a chat-bot\\venv\\lib\\site-packages (from groq<1,>=0.4.1->langchain_groq) (4.9.0)\n",
      "Requirement already satisfied: typing-extensions<5,>=4.10 in d:\\q&a chat-bot\\venv\\lib\\site-packages (from groq<1,>=0.4.1->langchain_groq) (4.13.2)\n",
      "Requirement already satisfied: distro<2,>=1.7.0 in d:\\q&a chat-bot\\venv\\lib\\site-packages (from groq<1,>=0.4.1->langchain_groq) (1.9.0)\n",
      "Requirement already satisfied: httpx<1,>=0.23.0 in d:\\q&a chat-bot\\venv\\lib\\site-packages (from groq<1,>=0.4.1->langchain_groq) (0.28.1)\n",
      "Requirement already satisfied: jsonpatch<2.0,>=1.33 in d:\\q&a chat-bot\\venv\\lib\\site-packages (from langchain-core<1.0.0,>=0.3.55->langchain) (1.33)\n",
      "Requirement already satisfied: packaging<25,>=23.2 in d:\\q&a chat-bot\\venv\\lib\\site-packages (from langchain-core<1.0.0,>=0.3.55->langchain) (24.2)\n",
      "Requirement already satisfied: requests-toolbelt<2.0.0,>=1.0.0 in d:\\q&a chat-bot\\venv\\lib\\site-packages (from langsmith<0.4,>=0.1.17->langchain) (1.0.0)\n",
      "Requirement already satisfied: zstandard<0.24.0,>=0.23.0 in d:\\q&a chat-bot\\venv\\lib\\site-packages (from langsmith<0.4,>=0.1.17->langchain) (0.23.0)\n",
      "Requirement already satisfied: orjson<4.0.0,>=3.9.14 in d:\\q&a chat-bot\\venv\\lib\\site-packages (from langsmith<0.4,>=0.1.17->langchain) (3.10.18)\n",
      "Requirement already satisfied: annotated-types>=0.6.0 in d:\\q&a chat-bot\\venv\\lib\\site-packages (from pydantic<3.0.0,>=2.7.4->langchain) (0.7.0)\n",
      "Requirement already satisfied: pydantic-core==2.33.2 in d:\\q&a chat-bot\\venv\\lib\\site-packages (from pydantic<3.0.0,>=2.7.4->langchain) (2.33.2)\n",
      "Requirement already satisfied: typing-inspection>=0.4.0 in d:\\q&a chat-bot\\venv\\lib\\site-packages (from pydantic<3.0.0,>=2.7.4->langchain) (0.4.0)\n",
      "Requirement already satisfied: python-dotenv>=0.21.0 in d:\\q&a chat-bot\\venv\\lib\\site-packages (from pydantic-settings<3.0.0,>=2.4.0->langchain_community) (1.1.0)\n",
      "Requirement already satisfied: certifi>=2017.4.17 in d:\\q&a chat-bot\\venv\\lib\\site-packages (from requests<3,>=2->langchain) (2025.4.26)\n",
      "Requirement already satisfied: urllib3<3,>=1.21.1 in d:\\q&a chat-bot\\venv\\lib\\site-packages (from requests<3,>=2->langchain) (2.4.0)\n",
      "Requirement already satisfied: idna<4,>=2.5 in d:\\q&a chat-bot\\venv\\lib\\site-packages (from requests<3,>=2->langchain) (3.10)\n",
      "Requirement already satisfied: charset-normalizer<4,>=2 in d:\\q&a chat-bot\\venv\\lib\\site-packages (from requests<3,>=2->langchain) (3.4.1)\n",
      "Requirement already satisfied: greenlet>=1 in d:\\q&a chat-bot\\venv\\lib\\site-packages (from SQLAlchemy<3,>=1.4->langchain) (3.2.1)\n",
      "Requirement already satisfied: exceptiongroup>=1.0.2 in d:\\q&a chat-bot\\venv\\lib\\site-packages (from anyio<5,>=3.5.0->groq<1,>=0.4.1->langchain_groq) (1.2.2)\n",
      "Requirement already satisfied: httpcore==1.* in d:\\q&a chat-bot\\venv\\lib\\site-packages (from httpx<1,>=0.23.0->groq<1,>=0.4.1->langchain_groq) (1.0.9)\n",
      "Requirement already satisfied: h11>=0.16 in d:\\q&a chat-bot\\venv\\lib\\site-packages (from httpcore==1.*->httpx<1,>=0.23.0->groq<1,>=0.4.1->langchain_groq) (0.16.0)\n",
      "Requirement already satisfied: jsonpointer>=1.9 in d:\\q&a chat-bot\\venv\\lib\\site-packages (from jsonpatch<2.0,>=1.33->langchain-core<1.0.0,>=0.3.55->langchain) (3.0.0)\n",
      "Requirement already satisfied: mypy-extensions>=0.3.0 in d:\\q&a chat-bot\\venv\\lib\\site-packages (from typing-inspect<1,>=0.4.0->dataclasses-json<0.7,>=0.5.7->langchain_community) (1.1.0)\n"
     ]
    },
    {
     "name": "stderr",
     "output_type": "stream",
     "text": [
      "\n",
      "[notice] A new release of pip is available: 23.0.1 -> 25.1\n",
      "[notice] To update, run: python.exe -m pip install --upgrade pip\n"
     ]
    }
   ],
   "source": [
    "!pip install langchain langchain_groq langchain_community"
   ]
  },
  {
   "cell_type": "code",
   "execution_count": 5,
   "id": "fabaad20",
   "metadata": {},
   "outputs": [],
   "source": [
    "import os\n",
    "os.environ[\"LANGCHAIN_API_KEY\"]=\"LANGCHAIN_API_KEY\"\n",
    "os.environ[\"LANGCHAIN_TRACING_V2\"]=\"true\"\n",
    "os.environ[\"LANGCHAIN_PROJECT\"]=\"CourseLanggraph\""
   ]
  },
  {
   "cell_type": "code",
   "execution_count": 6,
   "id": "ccc697be",
   "metadata": {},
   "outputs": [],
   "source": [
    "from langchain_groq import ChatGroq"
   ]
  },
  {
   "cell_type": "code",
   "execution_count": 8,
   "id": "c819e2a7",
   "metadata": {},
   "outputs": [
    {
     "ename": "NameError",
     "evalue": "name 'groq_api_key' is not defined",
     "output_type": "error",
     "traceback": [
      "\u001b[1;31m---------------------------------------------------------------------------\u001b[0m",
      "\u001b[1;31mNameError\u001b[0m                                 Traceback (most recent call last)",
      "Cell \u001b[1;32mIn[8], line 1\u001b[0m\n\u001b[1;32m----> 1\u001b[0m llm\u001b[38;5;241m=\u001b[39mChatGroq(groq_api_key\u001b[38;5;241m=\u001b[39m\u001b[43mgroq_api_key\u001b[49m,model_name\u001b[38;5;241m=\u001b[39m\u001b[38;5;124m\"\u001b[39m\u001b[38;5;124mGemma-9b-It\u001b[39m\u001b[38;5;124m\"\u001b[39m)\n\u001b[0;32m      2\u001b[0m llm\n",
      "\u001b[1;31mNameError\u001b[0m: name 'groq_api_key' is not defined"
     ]
    }
   ],
   "source": [
    "llm=ChatGroq(groq_api_key=groq_api_key,model_name=\"Gemma-9b-It\")\n",
    "llm"
   ]
  },
  {
   "cell_type": "code",
   "execution_count": 9,
   "id": "685beecf",
   "metadata": {},
   "outputs": [],
   "source": [
    "##Start Building Chat bot using Langgraph"
   ]
  },
  {
   "cell_type": "code",
   "execution_count": 10,
   "id": "af24ecec",
   "metadata": {},
   "outputs": [],
   "source": [
    "from typing import Annotated\n",
    "from typing_extensions import TypedDict\n",
    "from langgraph.graph import StateGraph,START,END\n",
    "from langgraph.graph.message import add_messages\n"
   ]
  },
  {
   "cell_type": "code",
   "execution_count": 13,
   "id": "54f75c78",
   "metadata": {},
   "outputs": [],
   "source": [
    "class State(TypedDict):\n",
    "    #Message have the type \"list\".The 'add_messages' function\n",
    "    #in the annotation defines how this state key should be updated\n",
    "    #(in this case,it appends messages to the list,rather than overwriting them)\n",
    "    messages:Annotated[list,add_messages] \n",
    "graph_builder=StateGraph(State)"
   ]
  },
  {
   "cell_type": "code",
   "execution_count": 14,
   "id": "944c386b",
   "metadata": {},
   "outputs": [
    {
     "data": {
      "text/plain": [
       "<langgraph.graph.state.StateGraph at 0x1b8d585d150>"
      ]
     },
     "execution_count": 14,
     "metadata": {},
     "output_type": "execute_result"
    }
   ],
   "source": [
    "graph_builder\n"
   ]
  },
  {
   "cell_type": "code",
   "execution_count": 15,
   "id": "8fce0380",
   "metadata": {},
   "outputs": [],
   "source": [
    "def chatbot(state:State):\n",
    "    return {\"messages\":llm.invoke(state['messages'])}\n"
   ]
  },
  {
   "cell_type": "code",
   "execution_count": 16,
   "id": "d7d0c17f",
   "metadata": {},
   "outputs": [
    {
     "data": {
      "text/plain": [
       "<langgraph.graph.state.StateGraph at 0x1b8d585d150>"
      ]
     },
     "execution_count": 16,
     "metadata": {},
     "output_type": "execute_result"
    }
   ],
   "source": [
    "graph_builder.add_node(\"chatbot\",chatbot)"
   ]
  },
  {
   "cell_type": "code",
   "execution_count": 17,
   "id": "9cdec9dc",
   "metadata": {},
   "outputs": [
    {
     "data": {
      "text/plain": [
       "<langgraph.graph.state.StateGraph at 0x1b8d585d150>"
      ]
     },
     "execution_count": 17,
     "metadata": {},
     "output_type": "execute_result"
    }
   ],
   "source": [
    "graph_builder"
   ]
  },
  {
   "cell_type": "code",
   "execution_count": 19,
   "id": "9a895ef9",
   "metadata": {},
   "outputs": [
    {
     "data": {
      "text/plain": [
       "<langgraph.graph.state.StateGraph at 0x1b8d585d150>"
      ]
     },
     "execution_count": 19,
     "metadata": {},
     "output_type": "execute_result"
    }
   ],
   "source": [
    "graph_builder.add_edge(START,\"chatbot\")\n",
    "graph_builder.add_edge(\"chatbot\",END)"
   ]
  },
  {
   "cell_type": "code",
   "execution_count": 20,
   "id": "f365833f",
   "metadata": {},
   "outputs": [
    {
     "data": {
      "image/png": "[encoded data removed]",
      "text/plain": [
       "<langgraph.graph.state.CompiledStateGraph object at 0x000001B8D6B2F0D0>"
      ]
     },
     "execution_count": 20,
     "metadata": {},
     "output_type": "execute_result"
    }
   ],
   "source": [
    "graph_builder.compile()"
   ]
  },
  {
   "cell_type": "code",
   "execution_count": 21,
   "id": "77bdfb3b",
   "metadata": {},
   "outputs": [],
   "source": [
    "graph=graph_builder.compile()"
   ]
  },
  {
   "cell_type": "code",
   "execution_count": 23,
   "id": "b0d5d820",
   "metadata": {},
   "outputs": [
    {
     "data": {
      "image/png": "[encoded data removed]",
      "text/plain": [
       "<IPython.core.display.Image object>"
      ]
     },
     "metadata": {},
     "output_type": "display_data"
    }
   ],
   "source": [
    "from IPython.display import Image,display\n",
    "try:\n",
    "    display(Image(graph.get_graph().draw_mermaid_png()))\n",
    "except Exception:\n",
    "    pass"
   ]
  },
  {
   "cell_type": "code",
   "execution_count": null,
   "id": "1c0c30ae",
   "metadata": {},
   "outputs": [],
   "source": [
    "while True:\n",
    "    user_input=input(\"User: \")\n",
    "    if user_input.lower() in [\"quit\",\"q\"]:\n",
    "        print(\"Good Bye\")\n",
    "        break\n",
    "    for event in graph.stream({\"messages\":(\"user\",user_input)}):\n",
    "        print(event.values())\n",
    "        for value in event.values():\n",
    "            print(value['messages'])\n",
    "            print(\"Assistant:\",value[\"messages\"].content)\n",
    "    "
   ]
  }
 ],
 "metadata": {
  "kernelspec": {
   "display_name": "venv",
   "language": "python",
   "name": "python3"
  },
  "language_info": {
   "codemirror_mode": {
    "name": "ipython",
    "version": 3
   },
   "file_extension": ".py",
   "mimetype": "text/x-python",
   "name": "python",
   "nbconvert_exporter": "python",
   "pygments_lexer": "ipython3",
   "version": "3.10.11"
  }
 },
 "nbformat": 4,
 "nbformat_minor": 5
}
